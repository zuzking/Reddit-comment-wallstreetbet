{
  "cells": [
    {
      "cell_type": "markdown",
      "metadata": {
        "id": "view-in-github",
        "colab_type": "text"
      },
      "source": [
        "<a href=\"https://colab.research.google.com/github/zuzking/Reddit-comment-wallstreetbet/blob/main/wallstreetbets2_.ipynb\" target=\"_parent\"><img src=\"https://colab.research.google.com/assets/colab-badge.svg\" alt=\"Open In Colab\"/></a>"
      ]
    },
    {
      "cell_type": "code",
      "execution_count": null,
      "metadata": {
        "id": "5sYxlE1m907G"
      },
      "outputs": [],
      "source": [
        "# !pip install tensorflow tensorflow-gpu pandas matplotlib sklearn"
      ]
    },
    {
      "cell_type": "markdown",
      "source": [
        "## Part 0: Load Packages, Load Data\n"
      ],
      "metadata": {
        "id": "Ujl5YXMF8GJi"
      }
    },
    {
      "cell_type": "code",
      "source": [
        "import os\n",
        "import pandas as pd\n",
        "import tensorflow as tf\n",
        "import numpy as np\n",
        "import seaborn as sns\n",
        "from matplotlib import pyplot as plt\n",
        "\n",
        "import nltk\n",
        "nltk.download('punkt')\n",
        "nltk.download('stopwords')\n",
        "from sklearn.decomposition import LatentDirichletAllocation\n",
        "from sklearn.feature_extraction.text import CountVectorizer\n",
        "from nltk.stem.snowball import SnowballStemmer\n",
        "\n",
        "stemmer = SnowballStemmer(\"english\")\n",
        "# Use nltk's English stopwords.\n",
        "stopwords = nltk.corpus.stopwords.words('english')\n",
        "stopwords.append(\"'s\")\n",
        "stopwords.append(\"'m\")\n",
        "stopwords.append(\"n't\")\n",
        "stopwords.append(\"br\")\n",
        "\n",
        "# customize stopwords \n",
        "custom_st = ['a','the', 'and', 'there', 'that', 'this', 'am', 'on',\n",
        "                       'if', 'it', 'to', 'at' 'a', 'of', 'in', 'out', 'were',\n",
        "                       'was', 'do', 'did', \"don't\",\"didn't\", 'be', 'are', 'is',\n",
        "                       'being', \"it's\", 'have', 'had', 's', 'j', 't', 're',\n",
        "                       'at', 'with', 'just', 'now', \"can't\", 'can', 'up',\n",
        "                       'as', 'from', 'thing', 'by', 'so', 'here', 'will', 'for',\n",
        "                   '.', ',', '’', '?', '[', ']', '…', 'going', 'want', 'know', 'look', \n",
        "                   'would', 'said', 'got', 'think', 'say', 'tell', 'go', 'get', \n",
        "                    'crosstalk', 'well', 'like', 'much', 'make']\n",
        "total_stop = stopwords + custom_st\n"
      ],
      "metadata": {
        "colab": {
          "base_uri": "https://localhost:8080/"
        },
        "id": "AXijZe9QfADJ",
        "outputId": "3236745d-6549-4d10-862f-b6ceb949f3c6"
      },
      "execution_count": null,
      "outputs": [
        {
          "output_type": "stream",
          "name": "stderr",
          "text": [
            "[nltk_data] Downloading package punkt to /root/nltk_data...\n",
            "[nltk_data]   Unzipping tokenizers/punkt.zip.\n",
            "[nltk_data] Downloading package stopwords to /root/nltk_data...\n",
            "[nltk_data]   Unzipping corpora/stopwords.zip.\n"
          ]
        }
      ]
    },
    {
      "cell_type": "code",
      "source": [
        "from google.colab import drive\n",
        "drive.mount('/content/drive')"
      ],
      "metadata": {
        "id": "PuddmranJyP1",
        "colab": {
          "base_uri": "https://localhost:8080/"
        },
        "outputId": "ad551055-77db-409a-8857-a75a5cf54d03"
      },
      "execution_count": null,
      "outputs": [
        {
          "output_type": "stream",
          "name": "stdout",
          "text": [
            "Drive already mounted at /content/drive; to attempt to forcibly remount, call drive.mount(\"/content/drive\", force_remount=True).\n"
          ]
        }
      ]
    },
    {
      "cell_type": "code",
      "source": [
        "df = pd.read_csv('/content/drive/MyDrive/drive/train.csv')\n",
        "data = pd.read_csv('/content/drive/MyDrive/drive/reddit_wsb.csv')\n",
        "data1 = pd.read_csv('/content/drive/MyDrive/drive/data_wsb.csv')\n",
        "data_c = pd.read_csv('/content/drive/MyDrive/drive/data_c.csv')\n",
        "data_wsb2 = pd.read_csv('/content/drive/MyDrive/drive/data_wsb2.csv')"
      ],
      "metadata": {
        "id": "Z_gsJjJT8KPp"
      },
      "execution_count": null,
      "outputs": []
    },
    {
      "cell_type": "markdown",
      "source": [
        "##Part1: Data Manipulation and Data Exploration"
      ],
      "metadata": {
        "id": "MnO9M8uNlN84"
      }
    },
    {
      "cell_type": "code",
      "source": [
        "# concat comment body and title\n",
        "data['body']= data['body'].fillna('')\n",
        "\n",
        "data['title'] = data['title'].replace(np.nan, '')\n",
        "\n",
        "data['total'] = data[['title', 'body']].agg('. '.join, axis=1) # concat title and body \n",
        "\n",
        "\n",
        "# deal with timestamp data\n",
        "k = []\n",
        "for i in data['timestamp']:\n",
        "    j = i[:10]\n",
        "    k.append(j)\n",
        "    \n",
        "kk=[]\n",
        "for ii in data['timestamp']:\n",
        "    jj = ii[-8:]\n",
        "    kk.append(jj)\n",
        "\n",
        "data['day'] = k\n",
        "data['time'] = kk\n",
        "\n",
        "#df['Courses'].astype(str) +\"-\"+ df[\"Duration\"]\n",
        "\n",
        "#data['total'] = data['title'].astype(str)+\",\"+data['body'] \n",
        "\n",
        "#data = data[['title', 'body','total','timestamp','sentiment','comms_num','id']]"
      ],
      "metadata": {
        "id": "zZg3ka7gewoG"
      },
      "execution_count": null,
      "outputs": []
    },
    {
      "cell_type": "code",
      "source": [
        "data['timestamp'] = pd.to_datetime(data['timestamp'])\n",
        "t1 = pd.to_datetime('2021-01-28', format = '%Y/%m/%d')\n",
        "data['day'] =  pd.to_datetime(data['day'], format = '%Y/%m/%d')"
      ],
      "metadata": {
        "id": "g63EeYQofy8s"
      },
      "execution_count": null,
      "outputs": []
    },
    {
      "cell_type": "code",
      "source": [
        "data.head()"
      ],
      "metadata": {
        "colab": {
          "base_uri": "https://localhost:8080/",
          "height": 337
        },
        "id": "4edIjaf0gs8S",
        "outputId": "44522b29-be4a-48f2-9837-7d23b9756dd2"
      },
      "execution_count": null,
      "outputs": [
        {
          "output_type": "execute_result",
          "data": {
            "text/plain": [
              "                                               title  score      id  \\\n",
              "0  It's not about the money, it's about sending a...     55  l6ulcx   \n",
              "1  Math Professor Scott Steiner says the numbers ...    110  l6uibd   \n",
              "2                                    Exit the system      0  l6uhhn   \n",
              "3  NEW SEC FILING FOR GME! CAN SOMEONE LESS RETAR...     29  l6ugk6   \n",
              "4  Not to distract from GME, just thought our AMC...     71  l6ufgy   \n",
              "\n",
              "                                                 url  comms_num       created  \\\n",
              "0                    https://v.redd.it/6j75regs72e61          6  1.611863e+09   \n",
              "1                    https://v.redd.it/ah50lyny62e61         23  1.611862e+09   \n",
              "2  https://www.reddit.com/r/wallstreetbets/commen...         47  1.611862e+09   \n",
              "3  https://sec.report/Document/0001193125-21-019848/         74  1.611862e+09   \n",
              "4                https://i.redd.it/4h2sukb662e61.jpg        156  1.611862e+09   \n",
              "\n",
              "                                                body           timestamp  \\\n",
              "0                                                    2021-01-28 21:37:41   \n",
              "1                                                    2021-01-28 21:32:10   \n",
              "2  The CEO of NASDAQ pushed to halt trading “to g... 2021-01-28 21:30:35   \n",
              "3                                                    2021-01-28 21:28:57   \n",
              "4                                                    2021-01-28 21:26:56   \n",
              "\n",
              "                                               total        day      time  \n",
              "0  It's not about the money, it's about sending a... 2021-01-28  21:37:41  \n",
              "1  Math Professor Scott Steiner says the numbers ... 2021-01-28  21:32:10  \n",
              "2  Exit the system. The CEO of NASDAQ pushed to h... 2021-01-28  21:30:35  \n",
              "3  NEW SEC FILING FOR GME! CAN SOMEONE LESS RETAR... 2021-01-28  21:28:57  \n",
              "4  Not to distract from GME, just thought our AMC... 2021-01-28  21:26:56  "
            ],
            "text/html": [
              "\n",
              "  <div id=\"df-c9b14bf2-e8e0-4276-b5e0-21b9a53ac881\">\n",
              "    <div class=\"colab-df-container\">\n",
              "      <div>\n",
              "<style scoped>\n",
              "    .dataframe tbody tr th:only-of-type {\n",
              "        vertical-align: middle;\n",
              "    }\n",
              "\n",
              "    .dataframe tbody tr th {\n",
              "        vertical-align: top;\n",
              "    }\n",
              "\n",
              "    .dataframe thead th {\n",
              "        text-align: right;\n",
              "    }\n",
              "</style>\n",
              "<table border=\"1\" class=\"dataframe\">\n",
              "  <thead>\n",
              "    <tr style=\"text-align: right;\">\n",
              "      <th></th>\n",
              "      <th>title</th>\n",
              "      <th>score</th>\n",
              "      <th>id</th>\n",
              "      <th>url</th>\n",
              "      <th>comms_num</th>\n",
              "      <th>created</th>\n",
              "      <th>body</th>\n",
              "      <th>timestamp</th>\n",
              "      <th>total</th>\n",
              "      <th>day</th>\n",
              "      <th>time</th>\n",
              "    </tr>\n",
              "  </thead>\n",
              "  <tbody>\n",
              "    <tr>\n",
              "      <th>0</th>\n",
              "      <td>It's not about the money, it's about sending a...</td>\n",
              "      <td>55</td>\n",
              "      <td>l6ulcx</td>\n",
              "      <td>https://v.redd.it/6j75regs72e61</td>\n",
              "      <td>6</td>\n",
              "      <td>1.611863e+09</td>\n",
              "      <td></td>\n",
              "      <td>2021-01-28 21:37:41</td>\n",
              "      <td>It's not about the money, it's about sending a...</td>\n",
              "      <td>2021-01-28</td>\n",
              "      <td>21:37:41</td>\n",
              "    </tr>\n",
              "    <tr>\n",
              "      <th>1</th>\n",
              "      <td>Math Professor Scott Steiner says the numbers ...</td>\n",
              "      <td>110</td>\n",
              "      <td>l6uibd</td>\n",
              "      <td>https://v.redd.it/ah50lyny62e61</td>\n",
              "      <td>23</td>\n",
              "      <td>1.611862e+09</td>\n",
              "      <td></td>\n",
              "      <td>2021-01-28 21:32:10</td>\n",
              "      <td>Math Professor Scott Steiner says the numbers ...</td>\n",
              "      <td>2021-01-28</td>\n",
              "      <td>21:32:10</td>\n",
              "    </tr>\n",
              "    <tr>\n",
              "      <th>2</th>\n",
              "      <td>Exit the system</td>\n",
              "      <td>0</td>\n",
              "      <td>l6uhhn</td>\n",
              "      <td>https://www.reddit.com/r/wallstreetbets/commen...</td>\n",
              "      <td>47</td>\n",
              "      <td>1.611862e+09</td>\n",
              "      <td>The CEO of NASDAQ pushed to halt trading “to g...</td>\n",
              "      <td>2021-01-28 21:30:35</td>\n",
              "      <td>Exit the system. The CEO of NASDAQ pushed to h...</td>\n",
              "      <td>2021-01-28</td>\n",
              "      <td>21:30:35</td>\n",
              "    </tr>\n",
              "    <tr>\n",
              "      <th>3</th>\n",
              "      <td>NEW SEC FILING FOR GME! CAN SOMEONE LESS RETAR...</td>\n",
              "      <td>29</td>\n",
              "      <td>l6ugk6</td>\n",
              "      <td>https://sec.report/Document/0001193125-21-019848/</td>\n",
              "      <td>74</td>\n",
              "      <td>1.611862e+09</td>\n",
              "      <td></td>\n",
              "      <td>2021-01-28 21:28:57</td>\n",
              "      <td>NEW SEC FILING FOR GME! CAN SOMEONE LESS RETAR...</td>\n",
              "      <td>2021-01-28</td>\n",
              "      <td>21:28:57</td>\n",
              "    </tr>\n",
              "    <tr>\n",
              "      <th>4</th>\n",
              "      <td>Not to distract from GME, just thought our AMC...</td>\n",
              "      <td>71</td>\n",
              "      <td>l6ufgy</td>\n",
              "      <td>https://i.redd.it/4h2sukb662e61.jpg</td>\n",
              "      <td>156</td>\n",
              "      <td>1.611862e+09</td>\n",
              "      <td></td>\n",
              "      <td>2021-01-28 21:26:56</td>\n",
              "      <td>Not to distract from GME, just thought our AMC...</td>\n",
              "      <td>2021-01-28</td>\n",
              "      <td>21:26:56</td>\n",
              "    </tr>\n",
              "  </tbody>\n",
              "</table>\n",
              "</div>\n",
              "      <button class=\"colab-df-convert\" onclick=\"convertToInteractive('df-c9b14bf2-e8e0-4276-b5e0-21b9a53ac881')\"\n",
              "              title=\"Convert this dataframe to an interactive table.\"\n",
              "              style=\"display:none;\">\n",
              "        \n",
              "  <svg xmlns=\"http://www.w3.org/2000/svg\" height=\"24px\"viewBox=\"0 0 24 24\"\n",
              "       width=\"24px\">\n",
              "    <path d=\"M0 0h24v24H0V0z\" fill=\"none\"/>\n",
              "    <path d=\"M18.56 5.44l.94 2.06.94-2.06 2.06-.94-2.06-.94-.94-2.06-.94 2.06-2.06.94zm-11 1L8.5 8.5l.94-2.06 2.06-.94-2.06-.94L8.5 2.5l-.94 2.06-2.06.94zm10 10l.94 2.06.94-2.06 2.06-.94-2.06-.94-.94-2.06-.94 2.06-2.06.94z\"/><path d=\"M17.41 7.96l-1.37-1.37c-.4-.4-.92-.59-1.43-.59-.52 0-1.04.2-1.43.59L10.3 9.45l-7.72 7.72c-.78.78-.78 2.05 0 2.83L4 21.41c.39.39.9.59 1.41.59.51 0 1.02-.2 1.41-.59l7.78-7.78 2.81-2.81c.8-.78.8-2.07 0-2.86zM5.41 20L4 18.59l7.72-7.72 1.47 1.35L5.41 20z\"/>\n",
              "  </svg>\n",
              "      </button>\n",
              "      \n",
              "  <style>\n",
              "    .colab-df-container {\n",
              "      display:flex;\n",
              "      flex-wrap:wrap;\n",
              "      gap: 12px;\n",
              "    }\n",
              "\n",
              "    .colab-df-convert {\n",
              "      background-color: #E8F0FE;\n",
              "      border: none;\n",
              "      border-radius: 50%;\n",
              "      cursor: pointer;\n",
              "      display: none;\n",
              "      fill: #1967D2;\n",
              "      height: 32px;\n",
              "      padding: 0 0 0 0;\n",
              "      width: 32px;\n",
              "    }\n",
              "\n",
              "    .colab-df-convert:hover {\n",
              "      background-color: #E2EBFA;\n",
              "      box-shadow: 0px 1px 2px rgba(60, 64, 67, 0.3), 0px 1px 3px 1px rgba(60, 64, 67, 0.15);\n",
              "      fill: #174EA6;\n",
              "    }\n",
              "\n",
              "    [theme=dark] .colab-df-convert {\n",
              "      background-color: #3B4455;\n",
              "      fill: #D2E3FC;\n",
              "    }\n",
              "\n",
              "    [theme=dark] .colab-df-convert:hover {\n",
              "      background-color: #434B5C;\n",
              "      box-shadow: 0px 1px 3px 1px rgba(0, 0, 0, 0.15);\n",
              "      filter: drop-shadow(0px 1px 2px rgba(0, 0, 0, 0.3));\n",
              "      fill: #FFFFFF;\n",
              "    }\n",
              "  </style>\n",
              "\n",
              "      <script>\n",
              "        const buttonEl =\n",
              "          document.querySelector('#df-c9b14bf2-e8e0-4276-b5e0-21b9a53ac881 button.colab-df-convert');\n",
              "        buttonEl.style.display =\n",
              "          google.colab.kernel.accessAllowed ? 'block' : 'none';\n",
              "\n",
              "        async function convertToInteractive(key) {\n",
              "          const element = document.querySelector('#df-c9b14bf2-e8e0-4276-b5e0-21b9a53ac881');\n",
              "          const dataTable =\n",
              "            await google.colab.kernel.invokeFunction('convertToInteractive',\n",
              "                                                     [key], {});\n",
              "          if (!dataTable) return;\n",
              "\n",
              "          const docLinkHtml = 'Like what you see? Visit the ' +\n",
              "            '<a target=\"_blank\" href=https://colab.research.google.com/notebooks/data_table.ipynb>data table notebook</a>'\n",
              "            + ' to learn more about interactive tables.';\n",
              "          element.innerHTML = '';\n",
              "          dataTable['output_type'] = 'display_data';\n",
              "          await google.colab.output.renderOutput(dataTable, element);\n",
              "          const docLink = document.createElement('div');\n",
              "          docLink.innerHTML = docLinkHtml;\n",
              "          element.appendChild(docLink);\n",
              "        }\n",
              "      </script>\n",
              "    </div>\n",
              "  </div>\n",
              "  "
            ]
          },
          "metadata": {},
          "execution_count": 6
        }
      ]
    },
    {
      "cell_type": "code",
      "source": [
        "# remove outlier which coule be a typo \n",
        "data['day'].describe()\n",
        "data = data.drop(labels = 32591, axis = 0)"
      ],
      "metadata": {
        "colab": {
          "base_uri": "https://localhost:8080/"
        },
        "id": "A5SubBbZqP-A",
        "outputId": "b0156249-2fdc-4cf1-e2aa-1156a5245510"
      },
      "execution_count": null,
      "outputs": [
        {
          "output_type": "stream",
          "name": "stderr",
          "text": [
            "/usr/local/lib/python3.7/dist-packages/ipykernel_launcher.py:2: FutureWarning: Treating datetime data as categorical rather than numeric in `.describe` is deprecated and will be removed in a future version of pandas. Specify `datetime_is_numeric=True` to silence this warning and adopt the future behavior now.\n",
            "  \n"
          ]
        }
      ]
    },
    {
      "cell_type": "code",
      "source": [
        "comments_num = data.groupby(['day'])['comms_num'].sum()\n",
        "sns.lineplot(data = comments_num)\n",
        "plt.title('Number of comments before data processing')"
      ],
      "metadata": {
        "colab": {
          "base_uri": "https://localhost:8080/",
          "height": 313
        },
        "id": "AvRir5mkWeQZ",
        "outputId": "a52fa16d-ab95-4e4e-cb34-003e2cd4ff1d"
      },
      "execution_count": null,
      "outputs": [
        {
          "output_type": "execute_result",
          "data": {
            "text/plain": [
              "Text(0.5, 1.0, 'Number of comments before data processing')"
            ]
          },
          "metadata": {},
          "execution_count": 10
        },
        {
          "output_type": "display_data",
          "data": {
            "text/plain": [
              "<Figure size 432x288 with 1 Axes>"
            ],
            "image/png": "[encoded data removed]"
          },
          "metadata": {
            "needs_background": "light"
          }
        }
      ]
    },
    {
      "cell_type": "code",
      "source": [
        "plt.hist(data['day'].values, alpha = 0.5, color='r', label = 'comment day')\n",
        "plt.legend(loc ='upper right')\n",
        "plt.title('Historgrams of post day before data processing')\n",
        "plt.xlabel('day')\n",
        "plt.ylabel('Count')\n",
        "plt.show()"
      ],
      "metadata": {
        "colab": {
          "base_uri": "https://localhost:8080/",
          "height": 295
        },
        "id": "-xAt2uxumPyA",
        "outputId": "9f8ab88b-e749-46ed-dd82-9847dc86499d"
      },
      "execution_count": null,
      "outputs": [
        {
          "output_type": "display_data",
          "data": {
            "text/plain": [
              "<Figure size 432x288 with 1 Axes>"
            ],
            "image/png": "[encoded data removed]"
          },
          "metadata": {
            "needs_background": "light"
          }
        }
      ]
    },
    {
      "cell_type": "markdown",
      "source": [
        "Diamond hands, Paper hands? YOLO?"
      ],
      "metadata": {
        "id": "Rt28SttlWrPC"
      }
    },
    {
      "cell_type": "code",
      "source": [
        "# Identity key words\n",
        "\n",
        "diamond_hand = ['Diamond Hands', 'Diamond hands', 'diamond hand','diamondhands','Diamondhands'] # ,'diamond','Diamond' ? should i put them in?\n",
        "paper_hand = ['Paper Hands', 'Paper hands', 'paper hands','paperhands','Paperhands']\n",
        "yolo = ['YOLO', 'yolo', 'Yolo']\n",
        "\n",
        "def id_words(comment, keys):\n",
        "    flag = 0 \n",
        "    for key in keys:\n",
        "        if comment.find(key) != -1:\n",
        "            flag = 1\n",
        "    return flag\n",
        "\n",
        "data['diamond_label'] = data['total'].apply(lambda x: id_words(x, diamond_hand))\n",
        "data['yolo_label'] = data['total'].apply(lambda x: id_words(x, yolo))\n",
        "data['paper_label'] =  data['total'].apply(lambda x: id_words(x, paper_hand))"
      ],
      "metadata": {
        "id": "2aU7v2SNWqKO"
      },
      "execution_count": null,
      "outputs": []
    },
    {
      "cell_type": "code",
      "source": [
        "#data_wsb2['diamond_label'] = data_wsb2['total'].apply(lambda x: id_words(x, diamond_hand))\n",
        "#data_wsb2['yolo_label'] = data_wsb2['total'].apply(lambda x: id_words(x, yolo))\n",
        "#data_wsb2['paper_label'] =  data_wsb2['total'].apply(lambda x: id_words(x, paper_hand))"
      ],
      "metadata": {
        "id": "xNOe6O7FbxEm"
      },
      "execution_count": null,
      "outputs": []
    },
    {
      "cell_type": "code",
      "source": [
        "data['diamond_label'].sum()"
      ],
      "metadata": {
        "colab": {
          "base_uri": "https://localhost:8080/"
        },
        "id": "7F4cfTxlWqFq",
        "outputId": "28b9fcb2-847a-4a45-e2f5-6584fcaba01e"
      },
      "execution_count": null,
      "outputs": [
        {
          "output_type": "execute_result",
          "data": {
            "text/plain": [
              "1514"
            ]
          },
          "metadata": {},
          "execution_count": 30
        }
      ]
    },
    {
      "cell_type": "code",
      "source": [
        "data['yolo_label'].sum()"
      ],
      "metadata": {
        "colab": {
          "base_uri": "https://localhost:8080/"
        },
        "id": "QRGlXcKze0ot",
        "outputId": "9ec68026-cc5d-4073-d6b0-e014dcc6c562"
      },
      "execution_count": null,
      "outputs": [
        {
          "output_type": "execute_result",
          "data": {
            "text/plain": [
              "3329"
            ]
          },
          "metadata": {},
          "execution_count": 31
        }
      ]
    },
    {
      "cell_type": "code",
      "source": [
        "data_wsb2['diamond_label'].sum()"
      ],
      "metadata": {
        "colab": {
          "base_uri": "https://localhost:8080/"
        },
        "id": "p8XStOH5cMwu",
        "outputId": "eeb636d5-87ec-4b23-8e99-f41c10eace6b"
      },
      "execution_count": null,
      "outputs": [
        {
          "output_type": "execute_result",
          "data": {
            "text/plain": [
              "1120"
            ]
          },
          "metadata": {},
          "execution_count": 26
        }
      ]
    },
    {
      "cell_type": "code",
      "source": [
        "diamond = data[data['diamond_label'] ==1].groupby(['day'])['title'].nunique()\n",
        "yolo = data[data['yolo_label'] ==1].groupby(['day'])['title'].nunique()\n",
        "paper = data[data['paper_label'] ==1].groupby(['day'])['title'].nunique()"
      ],
      "metadata": {
        "id": "0Cc3dBqjcl6k"
      },
      "execution_count": null,
      "outputs": []
    },
    {
      "cell_type": "code",
      "source": [
        "len(paper)"
      ],
      "metadata": {
        "colab": {
          "base_uri": "https://localhost:8080/"
        },
        "id": "696Yjzdm_uHL",
        "outputId": "597e9eb2-200a-46e1-c4a4-25a0b842f21e"
      },
      "execution_count": null,
      "outputs": [
        {
          "output_type": "execute_result",
          "data": {
            "text/plain": [
              "76"
            ]
          },
          "metadata": {},
          "execution_count": 45
        }
      ]
    },
    {
      "cell_type": "code",
      "source": [
        "sns.lineplot(data = paper)\n",
        "plt.title('Number of YOLO label')"
      ],
      "metadata": {
        "colab": {
          "base_uri": "https://localhost:8080/",
          "height": 313
        },
        "id": "Yyb9czdogQmK",
        "outputId": "006c0f10-e41c-4764-c982-eff4e4311d0f"
      },
      "execution_count": null,
      "outputs": [
        {
          "output_type": "execute_result",
          "data": {
            "text/plain": [
              "Text(0.5, 1.0, 'Number of YOLO label')"
            ]
          },
          "metadata": {},
          "execution_count": 41
        },
        {
          "output_type": "display_data",
          "data": {
            "text/plain": [
              "<Figure size 432x288 with 1 Axes>"
            ],
            "image/png": "[encoded data removed]"
          },
          "metadata": {
            "needs_background": "light"
          }
        }
      ]
    },
    {
      "cell_type": "code",
      "source": [
        "sns.lineplot(data = yolo)\n",
        "plt.title('Number of Paper hands label')"
      ],
      "metadata": {
        "colab": {
          "base_uri": "https://localhost:8080/",
          "height": 313
        },
        "id": "wCBnLTqFgDsc",
        "outputId": "0898c675-b52f-4ec1-9a0e-cd4028ca3e35"
      },
      "execution_count": null,
      "outputs": [
        {
          "output_type": "execute_result",
          "data": {
            "text/plain": [
              "Text(0.5, 1.0, 'Number of Paper hands label')"
            ]
          },
          "metadata": {},
          "execution_count": 42
        },
        {
          "output_type": "display_data",
          "data": {
            "text/plain": [
              "<Figure size 432x288 with 1 Axes>"
            ],
            "image/png": "[encoded data removed]"
          },
          "metadata": {
            "needs_background": "light"
          }
        }
      ]
    },
    {
      "cell_type": "code",
      "source": [
        "#comments_num = .groupby(['day'])['comms_num'].sum()\n",
        "sns.lineplot(data = diamond)\n",
        "plt.title('Number of Diamond hands label')"
      ],
      "metadata": {
        "colab": {
          "base_uri": "https://localhost:8080/",
          "height": 313
        },
        "id": "7pxvX407fAlK",
        "outputId": "27dd6c96-ed89-465a-aa7d-d51d6d6d8309"
      },
      "execution_count": null,
      "outputs": [
        {
          "output_type": "execute_result",
          "data": {
            "text/plain": [
              "Text(0.5, 1.0, 'Number of Diamond hands label')"
            ]
          },
          "metadata": {},
          "execution_count": 38
        },
        {
          "output_type": "display_data",
          "data": {
            "text/plain": [
              "<Figure size 432x288 with 1 Axes>"
            ],
            "image/png": "[encoded data removed]"
          },
          "metadata": {
            "needs_background": "light"
          }
        }
      ]
    },
    {
      "cell_type": "markdown",
      "source": [
        "## Part 2 Apply Bert Pretrained Model "
      ],
      "metadata": {
        "id": "Fb0W8rZ5viDQ"
      }
    },
    {
      "cell_type": "markdown",
      "source": [
        "Install dependencies: to avoid the conflication between tensorflow and pytorch, the follosing bert related code is better to execut in a differet environment."
      ],
      "metadata": {
        "id": "jZP0XQE1vxFc"
      }
    },
    {
      "cell_type": "code",
      "source": [
        "# !pip install torch==1.8.1+cu111 torchvision==0.9.1+cu111 torchaudio===0.8.1 -f https://download.pytorch.org/whl/torch_stable.html\n",
        "\n",
        "# !pip install transformers requests pandas numpy\n",
        "\n",
        "'''\n",
        "from transformers import AutoTokenizer, AutoModelForSequenceClassification\n",
        "import torch\n",
        "\n",
        "\n",
        "tokenizer = AutoTokenizer.from_pretrained('nlptown/bert-base-multilingual-uncased-sentiment')\n",
        "\n",
        "model = AutoModelForSequenceClassification.from_pretrained('nlptown/bert-base-multilingual-uncased-sentiment')\n",
        "\n",
        "# test result \n",
        "tokens = tokenizer.encode(\"THIS IS THE MOMENT. Life isn't fair\", return_tensors='pt')\n",
        "result = model(tokens)\n",
        "result.logits\n",
        "\n",
        "def sentiment_score(review):\n",
        "    tokens = tokenizer.encode(review, return_tensors='pt')\n",
        "    result = model(tokens)\n",
        "    return int(torch.argmax(result.logits))+1\n",
        "\n",
        "data['sentiment_total'] = data['title'].apply(lambda x: sentiment_score(x[:512]))\n",
        "\n",
        "# werite to csv \n",
        "data.to_csv('data_wsb.csv')\n",
        "'''"
      ],
      "metadata": {
        "id": "JX-EGFU-vhj0"
      },
      "execution_count": null,
      "outputs": []
    },
    {
      "cell_type": "markdown",
      "source": [
        "## Part 3: Training LSTM for Toxicity detection \n",
        "To train LSTM by using 90% train dataset and evaluate it's profermance on the 10% train dataset\n",
        "\n",
        "Then deployed the LSTM model on wallstreetbets comments to detect toxic comments\n",
        "\n"
      ],
      "metadata": {
        "id": "H6_ewLsA54JM"
      }
    },
    {
      "cell_type": "code",
      "execution_count": null,
      "metadata": {
        "id": "8nzJ9LIzdbcM"
      },
      "outputs": [],
      "source": [
        "df = pd.read_csv('/content/drive/MyDrive/drive/train.csv')\n",
        "#data = pd.read_csv('/content/drive/MyDrive/drive/reddit_wsb.csv')\n",
        "#data = pd.read_csv('/content/drive/MyDrive/drive/data_wsb.csv')\n",
        "#data_c = pd.read_csv('/content/drive/MyDrive/drive/data_c.csv')\n",
        "#data_wsb2 = pd.read_csv('/content/drive/MyDrive/drive/data_wsb2.csv')"
      ]
    },
    {
      "cell_type": "code",
      "execution_count": null,
      "metadata": {
        "colab": {
          "base_uri": "https://localhost:8080/",
          "height": 206
        },
        "id": "ocEbjyLHcXKE",
        "outputId": "c15d82cd-1d1f-4330-95ca-9db63d72ea00"
      },
      "outputs": [
        {
          "output_type": "execute_result",
          "data": {
            "text/plain": [
              "                 id                                       comment_text  toxic  \\\n",
              "0  0000997932d777bf  Explanation\\nWhy the edits made under my usern...      0   \n",
              "1  000103f0d9cfb60f  D'aww! He matches this background colour I'm s...      0   \n",
              "2  000113f07ec002fd  Hey man, I'm really not trying to edit war. It...      0   \n",
              "3  0001b41b1c6bb37e  \"\\nMore\\nI can't make any real suggestions on ...      0   \n",
              "4  0001d958c54c6e35  You, sir, are my hero. Any chance you remember...      0   \n",
              "\n",
              "   severe_toxic  obscene  threat  insult  identity_hate  \n",
              "0             0        0       0       0              0  \n",
              "1             0        0       0       0              0  \n",
              "2             0        0       0       0              0  \n",
              "3             0        0       0       0              0  \n",
              "4             0        0       0       0              0  "
            ],
            "text/html": [
              "\n",
              "  <div id=\"df-e3f23690-475b-4094-a23c-458034bd0d43\">\n",
              "    <div class=\"colab-df-container\">\n",
              "      <div>\n",
              "<style scoped>\n",
              "    .dataframe tbody tr th:only-of-type {\n",
              "        vertical-align: middle;\n",
              "    }\n",
              "\n",
              "    .dataframe tbody tr th {\n",
              "        vertical-align: top;\n",
              "    }\n",
              "\n",
              "    .dataframe thead th {\n",
              "        text-align: right;\n",
              "    }\n",
              "</style>\n",
              "<table border=\"1\" class=\"dataframe\">\n",
              "  <thead>\n",
              "    <tr style=\"text-align: right;\">\n",
              "      <th></th>\n",
              "      <th>id</th>\n",
              "      <th>comment_text</th>\n",
              "      <th>toxic</th>\n",
              "      <th>severe_toxic</th>\n",
              "      <th>obscene</th>\n",
              "      <th>threat</th>\n",
              "      <th>insult</th>\n",
              "      <th>identity_hate</th>\n",
              "    </tr>\n",
              "  </thead>\n",
              "  <tbody>\n",
              "    <tr>\n",
              "      <th>0</th>\n",
              "      <td>0000997932d777bf</td>\n",
              "      <td>Explanation\\nWhy the edits made under my usern...</td>\n",
              "      <td>0</td>\n",
              "      <td>0</td>\n",
              "      <td>0</td>\n",
              "      <td>0</td>\n",
              "      <td>0</td>\n",
              "      <td>0</td>\n",
              "    </tr>\n",
              "    <tr>\n",
              "      <th>1</th>\n",
              "      <td>000103f0d9cfb60f</td>\n",
              "      <td>D'aww! He matches this background colour I'm s...</td>\n",
              "      <td>0</td>\n",
              "      <td>0</td>\n",
              "      <td>0</td>\n",
              "      <td>0</td>\n",
              "      <td>0</td>\n",
              "      <td>0</td>\n",
              "    </tr>\n",
              "    <tr>\n",
              "      <th>2</th>\n",
              "      <td>000113f07ec002fd</td>\n",
              "      <td>Hey man, I'm really not trying to edit war. It...</td>\n",
              "      <td>0</td>\n",
              "      <td>0</td>\n",
              "      <td>0</td>\n",
              "      <td>0</td>\n",
              "      <td>0</td>\n",
              "      <td>0</td>\n",
              "    </tr>\n",
              "    <tr>\n",
              "      <th>3</th>\n",
              "      <td>0001b41b1c6bb37e</td>\n",
              "      <td>\"\\nMore\\nI can't make any real suggestions on ...</td>\n",
              "      <td>0</td>\n",
              "      <td>0</td>\n",
              "      <td>0</td>\n",
              "      <td>0</td>\n",
              "      <td>0</td>\n",
              "      <td>0</td>\n",
              "    </tr>\n",
              "    <tr>\n",
              "      <th>4</th>\n",
              "      <td>0001d958c54c6e35</td>\n",
              "      <td>You, sir, are my hero. Any chance you remember...</td>\n",
              "      <td>0</td>\n",
              "      <td>0</td>\n",
              "      <td>0</td>\n",
              "      <td>0</td>\n",
              "      <td>0</td>\n",
              "      <td>0</td>\n",
              "    </tr>\n",
              "  </tbody>\n",
              "</table>\n",
              "</div>\n",
              "      <button class=\"colab-df-convert\" onclick=\"convertToInteractive('df-e3f23690-475b-4094-a23c-458034bd0d43')\"\n",
              "              title=\"Convert this dataframe to an interactive table.\"\n",
              "              style=\"display:none;\">\n",
              "        \n",
              "  <svg xmlns=\"http://www.w3.org/2000/svg\" height=\"24px\"viewBox=\"0 0 24 24\"\n",
              "       width=\"24px\">\n",
              "    <path d=\"M0 0h24v24H0V0z\" fill=\"none\"/>\n",
              "    <path d=\"M18.56 5.44l.94 2.06.94-2.06 2.06-.94-2.06-.94-.94-2.06-.94 2.06-2.06.94zm-11 1L8.5 8.5l.94-2.06 2.06-.94-2.06-.94L8.5 2.5l-.94 2.06-2.06.94zm10 10l.94 2.06.94-2.06 2.06-.94-2.06-.94-.94-2.06-.94 2.06-2.06.94z\"/><path d=\"M17.41 7.96l-1.37-1.37c-.4-.4-.92-.59-1.43-.59-.52 0-1.04.2-1.43.59L10.3 9.45l-7.72 7.72c-.78.78-.78 2.05 0 2.83L4 21.41c.39.39.9.59 1.41.59.51 0 1.02-.2 1.41-.59l7.78-7.78 2.81-2.81c.8-.78.8-2.07 0-2.86zM5.41 20L4 18.59l7.72-7.72 1.47 1.35L5.41 20z\"/>\n",
              "  </svg>\n",
              "      </button>\n",
              "      \n",
              "  <style>\n",
              "    .colab-df-container {\n",
              "      display:flex;\n",
              "      flex-wrap:wrap;\n",
              "      gap: 12px;\n",
              "    }\n",
              "\n",
              "    .colab-df-convert {\n",
              "      background-color: #E8F0FE;\n",
              "      border: none;\n",
              "      border-radius: 50%;\n",
              "      cursor: pointer;\n",
              "      display: none;\n",
              "      fill: #1967D2;\n",
              "      height: 32px;\n",
              "      padding: 0 0 0 0;\n",
              "      width: 32px;\n",
              "    }\n",
              "\n",
              "    .colab-df-convert:hover {\n",
              "      background-color: #E2EBFA;\n",
              "      box-shadow: 0px 1px 2px rgba(60, 64, 67, 0.3), 0px 1px 3px 1px rgba(60, 64, 67, 0.15);\n",
              "      fill: #174EA6;\n",
              "    }\n",
              "\n",
              "    [theme=dark] .colab-df-convert {\n",
              "      background-color: #3B4455;\n",
              "      fill: #D2E3FC;\n",
              "    }\n",
              "\n",
              "    [theme=dark] .colab-df-convert:hover {\n",
              "      background-color: #434B5C;\n",
              "      box-shadow: 0px 1px 3px 1px rgba(0, 0, 0, 0.15);\n",
              "      filter: drop-shadow(0px 1px 2px rgba(0, 0, 0, 0.3));\n",
              "      fill: #FFFFFF;\n",
              "    }\n",
              "  </style>\n",
              "\n",
              "      <script>\n",
              "        const buttonEl =\n",
              "          document.querySelector('#df-e3f23690-475b-4094-a23c-458034bd0d43 button.colab-df-convert');\n",
              "        buttonEl.style.display =\n",
              "          google.colab.kernel.accessAllowed ? 'block' : 'none';\n",
              "\n",
              "        async function convertToInteractive(key) {\n",
              "          const element = document.querySelector('#df-e3f23690-475b-4094-a23c-458034bd0d43');\n",
              "          const dataTable =\n",
              "            await google.colab.kernel.invokeFunction('convertToInteractive',\n",
              "                                                     [key], {});\n",
              "          if (!dataTable) return;\n",
              "\n",
              "          const docLinkHtml = 'Like what you see? Visit the ' +\n",
              "            '<a target=\"_blank\" href=https://colab.research.google.com/notebooks/data_table.ipynb>data table notebook</a>'\n",
              "            + ' to learn more about interactive tables.';\n",
              "          element.innerHTML = '';\n",
              "          dataTable['output_type'] = 'display_data';\n",
              "          await google.colab.output.renderOutput(dataTable, element);\n",
              "          const docLink = document.createElement('div');\n",
              "          docLink.innerHTML = docLinkHtml;\n",
              "          element.appendChild(docLink);\n",
              "        }\n",
              "      </script>\n",
              "    </div>\n",
              "  </div>\n",
              "  "
            ]
          },
          "metadata": {},
          "execution_count": 5
        }
      ],
      "source": [
        "df.head()"
      ]
    },
    {
      "cell_type": "code",
      "execution_count": null,
      "metadata": {
        "id": "MqZWf56dqOyc"
      },
      "outputs": [],
      "source": [
        "from tensorflow.keras.layers import TextVectorization"
      ]
    },
    {
      "cell_type": "code",
      "execution_count": null,
      "metadata": {
        "id": "leR7OxTHqoSA"
      },
      "outputs": [],
      "source": [
        "X = df['comment_text']\n",
        "y = df[df.columns[2:]].values"
      ]
    },
    {
      "cell_type": "code",
      "execution_count": null,
      "metadata": {
        "id": "MLHz4115tZp2"
      },
      "outputs": [],
      "source": [
        "from sklearn.model_selection import train_test_split"
      ]
    },
    {
      "cell_type": "code",
      "execution_count": null,
      "metadata": {
        "id": "r1gd-smltO7H"
      },
      "outputs": [],
      "source": [
        "X_train, X_test, y_train, y_test = train_test_split(X, y, test_size=0.1, random_state=22)"
      ]
    },
    {
      "cell_type": "code",
      "execution_count": null,
      "metadata": {
        "id": "__qhR5lPqw_w"
      },
      "outputs": [],
      "source": [
        "MAX_FEATURES = 200000 # number of words in the vocab\n",
        "vectorizer = TextVectorization(max_tokens=MAX_FEATURES,\n",
        "                               output_sequence_length=1800,\n",
        "                               output_mode='int')\n",
        "vectorizer.adapt(X_train.values)"
      ]
    },
    {
      "cell_type": "code",
      "execution_count": null,
      "metadata": {
        "id": "5BLzkMTrq8aI"
      },
      "outputs": [],
      "source": [
        "vectorized_text = vectorizer(X_train.values)\n",
        "#MCSHBAP - map, chache, shuffle, batch, prefetch  from_tensor_slices, list_file\n",
        "dataset = tf.data.Dataset.from_tensor_slices((vectorized_text, y_train))\n",
        "dataset = dataset.cache()\n",
        "dataset = dataset.shuffle(160000)\n",
        "dataset = dataset.batch(16)\n",
        "dataset = dataset.prefetch(8) # helps bottlenecks"
      ]
    },
    {
      "cell_type": "code",
      "execution_count": null,
      "metadata": {
        "id": "8rIF4Yroq8Ki"
      },
      "outputs": [],
      "source": [
        "train = dataset.take(int(len(dataset)*.7))\n",
        "val = dataset.skip(int(len(dataset)*.7)).take(int(len(dataset)*.3))\n",
        "#test = dataset.skip(int(len(dataset)*.9)).take(int(len(dataset)*.1))"
      ]
    },
    {
      "cell_type": "markdown",
      "metadata": {
        "id": "TajxUe_5rEyk"
      },
      "source": [
        "## Create Sequential Model"
      ]
    },
    {
      "cell_type": "code",
      "execution_count": null,
      "metadata": {
        "id": "dDW9hMJUrCsQ"
      },
      "outputs": [],
      "source": [
        "from tensorflow.keras.models import Sequential\n",
        "from tensorflow.keras.layers import LSTM, Dropout, Bidirectional, Dense, Embedding"
      ]
    },
    {
      "cell_type": "code",
      "execution_count": null,
      "metadata": {
        "id": "byLUQAXIrH9k"
      },
      "outputs": [],
      "source": [
        "model = Sequential()\n",
        "# Create the embedding layer \n",
        "model.add(Embedding(MAX_FEATURES+1, 32))\n",
        "# Bidirectional LSTM Layer\n",
        "model.add(Bidirectional(LSTM(32, activation='tanh')))\n",
        "# Feature extractor Fully connected layers\n",
        "model.add(Dense(128, activation='relu'))\n",
        "model.add(Dense(256, activation='relu'))\n",
        "model.add(Dense(128, activation='relu'))\n",
        "# Final layer \n",
        "model.add(Dense(6, activation='sigmoid'))"
      ]
    },
    {
      "cell_type": "code",
      "execution_count": null,
      "metadata": {
        "id": "MUmrC9lvrKp-"
      },
      "outputs": [],
      "source": [
        "model.compile(loss='BinaryCrossentropy', optimizer='Adam')"
      ]
    },
    {
      "cell_type": "code",
      "execution_count": null,
      "metadata": {
        "colab": {
          "base_uri": "https://localhost:8080/"
        },
        "id": "Dt3Gew7IrNZn",
        "outputId": "26710f55-6751-402e-8d0a-64672c5da02c"
      },
      "outputs": [
        {
          "name": "stdout",
          "output_type": "stream",
          "text": [
            "Model: \"sequential_1\"\n",
            "_________________________________________________________________\n",
            " Layer (type)                Output Shape              Param #   \n",
            "=================================================================\n",
            " embedding_1 (Embedding)     (None, None, 32)          6400032   \n",
            "                                                                 \n",
            " bidirectional_1 (Bidirectio  (None, 64)               16640     \n",
            " nal)                                                            \n",
            "                                                                 \n",
            " dense_4 (Dense)             (None, 128)               8320      \n",
            "                                                                 \n",
            " dense_5 (Dense)             (None, 256)               33024     \n",
            "                                                                 \n",
            " dense_6 (Dense)             (None, 128)               32896     \n",
            "                                                                 \n",
            " dense_7 (Dense)             (None, 6)                 774       \n",
            "                                                                 \n",
            "=================================================================\n",
            "Total params: 6,491,686\n",
            "Trainable params: 6,491,686\n",
            "Non-trainable params: 0\n",
            "_________________________________________________________________\n"
          ]
        }
      ],
      "source": [
        "model.summary()"
      ]
    },
    {
      "cell_type": "code",
      "execution_count": null,
      "metadata": {
        "colab": {
          "base_uri": "https://localhost:8080/"
        },
        "id": "bOX1b3borNQ-",
        "outputId": "88062424-83a3-42d9-9ae6-a9a0607cf154"
      },
      "outputs": [
        {
          "name": "stdout",
          "output_type": "stream",
          "text": [
            "Epoch 1/20\n",
            "6283/6283 [==============================] - 743s 118ms/step - loss: 0.0075 - val_loss: 0.0062\n",
            "Epoch 2/20\n",
            "6283/6283 [==============================] - 745s 119ms/step - loss: 0.0068 - val_loss: 0.0056\n",
            "Epoch 3/20\n",
            "6283/6283 [==============================] - 746s 119ms/step - loss: 0.0065 - val_loss: 0.0057\n",
            "Epoch 4/20\n",
            "6283/6283 [==============================] - 744s 118ms/step - loss: 0.0062 - val_loss: 0.0049\n",
            "Epoch 5/20\n",
            "6283/6283 [==============================] - 740s 118ms/step - loss: 0.0058 - val_loss: 0.0056\n",
            "Epoch 6/20\n",
            "6283/6283 [==============================] - 739s 118ms/step - loss: 0.0053 - val_loss: 0.0044\n",
            "Epoch 7/20\n",
            "6283/6283 [==============================] - 740s 118ms/step - loss: 0.0051 - val_loss: 0.0037\n",
            "Epoch 8/20\n",
            "6283/6283 [==============================] - 739s 118ms/step - loss: 0.0048 - val_loss: 0.0043\n",
            "Epoch 9/20\n",
            "6283/6283 [==============================] - 741s 118ms/step - loss: 0.0046 - val_loss: 0.0035\n",
            "Epoch 10/20\n",
            "6283/6283 [==============================] - 739s 118ms/step - loss: 0.0046 - val_loss: 0.0036\n",
            "Epoch 11/20\n",
            "6283/6283 [==============================] - 735s 117ms/step - loss: 0.0043 - val_loss: 0.0035\n",
            "Epoch 12/20\n",
            "6283/6283 [==============================] - 734s 117ms/step - loss: 0.0041 - val_loss: 0.0033\n",
            "Epoch 13/20\n",
            "6283/6283 [==============================] - 731s 116ms/step - loss: 0.0039 - val_loss: 0.0029\n",
            "Epoch 14/20\n",
            "6283/6283 [==============================] - 731s 116ms/step - loss: 0.0037 - val_loss: 0.0036\n",
            "Epoch 15/20\n",
            "6283/6283 [==============================] - 731s 116ms/step - loss: 0.0037 - val_loss: 0.0032\n",
            "Epoch 16/20\n",
            "6283/6283 [==============================] - 732s 116ms/step - loss: 0.0035 - val_loss: 0.0035\n",
            "Epoch 17/20\n",
            "6283/6283 [==============================] - 732s 116ms/step - loss: 0.0036 - val_loss: 0.0030\n",
            "Epoch 18/20\n",
            "6283/6283 [==============================] - 731s 116ms/step - loss: 0.0034 - val_loss: 0.0028\n",
            "Epoch 19/20\n",
            "6283/6283 [==============================] - 731s 116ms/step - loss: 0.0032 - val_loss: 0.0029\n",
            "Epoch 20/20\n",
            "6283/6283 [==============================] - 737s 117ms/step - loss: 0.0032 - val_loss: 0.0026\n"
          ]
        }
      ],
      "source": [
        "history = model.fit(train, epochs=20, validation_data=val)"
      ]
    },
    {
      "cell_type": "code",
      "execution_count": null,
      "metadata": {
        "id": "WFMciOOnQlo6"
      },
      "outputs": [],
      "source": [
        "model.save('toxicity3.h5')"
      ]
    },
    {
      "cell_type": "code",
      "execution_count": null,
      "metadata": {
        "id": "G9AOwq-H57W1"
      },
      "outputs": [],
      "source": [
        "model = tf.keras.models.load_model('toxicity3.h5')"
      ]
    },
    {
      "cell_type": "code",
      "execution_count": null,
      "metadata": {
        "id": "GdlhxM3JrSCy"
      },
      "outputs": [],
      "source": [
        "from matplotlib import pyplot as plt"
      ]
    },
    {
      "cell_type": "code",
      "execution_count": null,
      "metadata": {
        "colab": {
          "base_uri": "https://localhost:8080/",
          "height": 313
        },
        "id": "pWznG8EGrWh3",
        "outputId": "814df621-2c1e-4178-cb25-1734a989e1bf"
      },
      "outputs": [
        {
          "data": {
            "text/plain": [
              "<Figure size 576x360 with 0 Axes>"
            ]
          },
          "metadata": {},
          "output_type": "display_data"
        },
        {
          "data": {
            "image/png": "[encoded data removed]",
            "text/plain": [
              "<Figure size 432x288 with 1 Axes>"
            ]
          },
          "metadata": {},
          "output_type": "display_data"
        }
      ],
      "source": [
        "plt.figure(figsize=(8,5))\n",
        "pd.DataFrame(history.history).plot()\n",
        "plt.xlabel('Number of Epoch')\n",
        "plt.ylabel('Loss')\n",
        "plt.title(\"Loss graph\")\n",
        "plt.show()"
      ]
    },
    {
      "cell_type": "markdown",
      "source": [
        "Test model"
      ],
      "metadata": {
        "id": "6xsjwr3nAsZ7"
      }
    },
    {
      "cell_type": "code",
      "execution_count": null,
      "metadata": {
        "id": "pKCpqGLjwKue"
      },
      "outputs": [],
      "source": [
        "input_text = vectorizer(\"I come back to you now... At the turn of the tide.. \")"
      ]
    },
    {
      "cell_type": "code",
      "execution_count": null,
      "metadata": {
        "colab": {
          "base_uri": "https://localhost:8080/"
        },
        "id": "Li8s-9RPw1Z5",
        "outputId": "06265be2-7dcf-476c-a911-ed4caccd4ad0"
      },
      "outputs": [
        {
          "data": {
            "text/plain": [
              "<tf.Tensor: shape=(1800,), dtype=int64, numpy=array([   7, 7158,  397, ...,    0,    0,    0])>"
            ]
          },
          "execution_count": 26,
          "metadata": {},
          "output_type": "execute_result"
        }
      ],
      "source": [
        "input_text"
      ]
    },
    {
      "cell_type": "code",
      "execution_count": null,
      "metadata": {
        "colab": {
          "base_uri": "https://localhost:8080/"
        },
        "id": "ZRClLzkjxHtI",
        "outputId": "2bd64dab-95a8-4d50-e89f-966f94fdeec8"
      },
      "outputs": [
        {
          "output_type": "stream",
          "name": "stdout",
          "text": [
            "1/1 [==============================] - 5s 5s/step\n"
          ]
        },
        {
          "output_type": "execute_result",
          "data": {
            "text/plain": [
              "array([[6.8497241e-01, 2.7910284e-05, 2.5040621e-02, 8.8541628e-06,\n",
              "        2.6134802e-02, 1.0274887e-03]], dtype=float32)"
            ]
          },
          "metadata": {},
          "execution_count": 18
        }
      ],
      "source": [
        "model.predict(np.array([input_text]))"
      ]
    },
    {
      "cell_type": "code",
      "execution_count": null,
      "metadata": {
        "colab": {
          "base_uri": "https://localhost:8080/"
        },
        "id": "b_EdvKiRxrTD",
        "outputId": "27fcc125-c289-4b54-93a6-5f750f335464"
      },
      "outputs": [
        {
          "data": {
            "text/plain": [
              "Index(['toxic', 'severe_toxic', 'obscene', 'threat', 'insult',\n",
              "       'identity_hate'],\n",
              "      dtype='object')"
            ]
          },
          "execution_count": 19,
          "metadata": {},
          "output_type": "execute_result"
        }
      ],
      "source": [
        "df.columns[2:]"
      ]
    },
    {
      "cell_type": "code",
      "execution_count": null,
      "metadata": {
        "id": "_mslLuI1C3p1"
      },
      "outputs": [],
      "source": [
        "def score(comment):\n",
        "    vectorized_comment = vectorizer([comment])\n",
        "    results = model.predict(vectorized_comment)\n",
        "    return results"
      ]
    },
    {
      "cell_type": "code",
      "execution_count": null,
      "metadata": {
        "id": "lQo0KOJj01cA"
      },
      "outputs": [],
      "source": [
        "bb = []\n",
        "for j in X_test:\n",
        "    b = score(j)\n",
        "    bb.append(b)"
      ]
    },
    {
      "cell_type": "code",
      "execution_count": null,
      "metadata": {
        "id": "6e1I9OsNxn2u"
      },
      "outputs": [],
      "source": [
        "bbb = list(np.concatenate(bb).flat)\n",
        "\n",
        "b1 = np.array(bbb).reshape(15958,6)\n",
        "\n",
        "b1 = pd.DataFrame(b1)"
      ]
    },
    {
      "cell_type": "code",
      "execution_count": null,
      "metadata": {
        "id": "nFnstJ93xqSp"
      },
      "outputs": [],
      "source": [
        "b1.to_csv('b2.csv')"
      ]
    },
    {
      "cell_type": "code",
      "execution_count": null,
      "metadata": {
        "colab": {
          "base_uri": "https://localhost:8080/",
          "height": 206
        },
        "id": "VwQ4KJpi7i5o",
        "outputId": "a9d5b7a6-73ac-4ebd-86ea-b65b4dbc5bdf"
      },
      "outputs": [
        {
          "data": {
            "text/html": [
              "\n",
              "  <div id=\"df-9180b00a-db33-456d-9eb8-2de5e6087ad9\">\n",
              "    <div class=\"colab-df-container\">\n",
              "      <div>\n",
              "<style scoped>\n",
              "    .dataframe tbody tr th:only-of-type {\n",
              "        vertical-align: middle;\n",
              "    }\n",
              "\n",
              "    .dataframe tbody tr th {\n",
              "        vertical-align: top;\n",
              "    }\n",
              "\n",
              "    .dataframe thead th {\n",
              "        text-align: right;\n",
              "    }\n",
              "</style>\n",
              "<table border=\"1\" class=\"dataframe\">\n",
              "  <thead>\n",
              "    <tr style=\"text-align: right;\">\n",
              "      <th></th>\n",
              "      <th>0</th>\n",
              "      <th>1</th>\n",
              "      <th>2</th>\n",
              "      <th>3</th>\n",
              "      <th>4</th>\n",
              "      <th>5</th>\n",
              "    </tr>\n",
              "  </thead>\n",
              "  <tbody>\n",
              "    <tr>\n",
              "      <th>0</th>\n",
              "      <td>9.118920e-02</td>\n",
              "      <td>9.778071e-07</td>\n",
              "      <td>0.012503</td>\n",
              "      <td>4.921037e-03</td>\n",
              "      <td>0.000954</td>\n",
              "      <td>2.655410e-04</td>\n",
              "    </tr>\n",
              "    <tr>\n",
              "      <th>1</th>\n",
              "      <td>9.335384e-12</td>\n",
              "      <td>0.000000e+00</td>\n",
              "      <td>0.000000</td>\n",
              "      <td>0.000000e+00</td>\n",
              "      <td>0.000000</td>\n",
              "      <td>0.000000e+00</td>\n",
              "    </tr>\n",
              "    <tr>\n",
              "      <th>2</th>\n",
              "      <td>8.438808e-19</td>\n",
              "      <td>0.000000e+00</td>\n",
              "      <td>0.000000</td>\n",
              "      <td>0.000000e+00</td>\n",
              "      <td>0.000000</td>\n",
              "      <td>0.000000e+00</td>\n",
              "    </tr>\n",
              "    <tr>\n",
              "      <th>3</th>\n",
              "      <td>6.779801e-12</td>\n",
              "      <td>0.000000e+00</td>\n",
              "      <td>0.000000</td>\n",
              "      <td>0.000000e+00</td>\n",
              "      <td>0.000000</td>\n",
              "      <td>0.000000e+00</td>\n",
              "    </tr>\n",
              "    <tr>\n",
              "      <th>4</th>\n",
              "      <td>9.956542e-01</td>\n",
              "      <td>7.480094e-04</td>\n",
              "      <td>0.880914</td>\n",
              "      <td>2.595362e-11</td>\n",
              "      <td>0.088501</td>\n",
              "      <td>5.927832e-09</td>\n",
              "    </tr>\n",
              "  </tbody>\n",
              "</table>\n",
              "</div>\n",
              "      <button class=\"colab-df-convert\" onclick=\"convertToInteractive('df-9180b00a-db33-456d-9eb8-2de5e6087ad9')\"\n",
              "              title=\"Convert this dataframe to an interactive table.\"\n",
              "              style=\"display:none;\">\n",
              "        \n",
              "  <svg xmlns=\"http://www.w3.org/2000/svg\" height=\"24px\"viewBox=\"0 0 24 24\"\n",
              "       width=\"24px\">\n",
              "    <path d=\"M0 0h24v24H0V0z\" fill=\"none\"/>\n",
              "    <path d=\"M18.56 5.44l.94 2.06.94-2.06 2.06-.94-2.06-.94-.94-2.06-.94 2.06-2.06.94zm-11 1L8.5 8.5l.94-2.06 2.06-.94-2.06-.94L8.5 2.5l-.94 2.06-2.06.94zm10 10l.94 2.06.94-2.06 2.06-.94-2.06-.94-.94-2.06-.94 2.06-2.06.94z\"/><path d=\"M17.41 7.96l-1.37-1.37c-.4-.4-.92-.59-1.43-.59-.52 0-1.04.2-1.43.59L10.3 9.45l-7.72 7.72c-.78.78-.78 2.05 0 2.83L4 21.41c.39.39.9.59 1.41.59.51 0 1.02-.2 1.41-.59l7.78-7.78 2.81-2.81c.8-.78.8-2.07 0-2.86zM5.41 20L4 18.59l7.72-7.72 1.47 1.35L5.41 20z\"/>\n",
              "  </svg>\n",
              "      </button>\n",
              "      \n",
              "  <style>\n",
              "    .colab-df-container {\n",
              "      display:flex;\n",
              "      flex-wrap:wrap;\n",
              "      gap: 12px;\n",
              "    }\n",
              "\n",
              "    .colab-df-convert {\n",
              "      background-color: #E8F0FE;\n",
              "      border: none;\n",
              "      border-radius: 50%;\n",
              "      cursor: pointer;\n",
              "      display: none;\n",
              "      fill: #1967D2;\n",
              "      height: 32px;\n",
              "      padding: 0 0 0 0;\n",
              "      width: 32px;\n",
              "    }\n",
              "\n",
              "    .colab-df-convert:hover {\n",
              "      background-color: #E2EBFA;\n",
              "      box-shadow: 0px 1px 2px rgba(60, 64, 67, 0.3), 0px 1px 3px 1px rgba(60, 64, 67, 0.15);\n",
              "      fill: #174EA6;\n",
              "    }\n",
              "\n",
              "    [theme=dark] .colab-df-convert {\n",
              "      background-color: #3B4455;\n",
              "      fill: #D2E3FC;\n",
              "    }\n",
              "\n",
              "    [theme=dark] .colab-df-convert:hover {\n",
              "      background-color: #434B5C;\n",
              "      box-shadow: 0px 1px 3px 1px rgba(0, 0, 0, 0.15);\n",
              "      filter: drop-shadow(0px 1px 2px rgba(0, 0, 0, 0.3));\n",
              "      fill: #FFFFFF;\n",
              "    }\n",
              "  </style>\n",
              "\n",
              "      <script>\n",
              "        const buttonEl =\n",
              "          document.querySelector('#df-9180b00a-db33-456d-9eb8-2de5e6087ad9 button.colab-df-convert');\n",
              "        buttonEl.style.display =\n",
              "          google.colab.kernel.accessAllowed ? 'block' : 'none';\n",
              "\n",
              "        async function convertToInteractive(key) {\n",
              "          const element = document.querySelector('#df-9180b00a-db33-456d-9eb8-2de5e6087ad9');\n",
              "          const dataTable =\n",
              "            await google.colab.kernel.invokeFunction('convertToInteractive',\n",
              "                                                     [key], {});\n",
              "          if (!dataTable) return;\n",
              "\n",
              "          const docLinkHtml = 'Like what you see? Visit the ' +\n",
              "            '<a target=\"_blank\" href=https://colab.research.google.com/notebooks/data_table.ipynb>data table notebook</a>'\n",
              "            + ' to learn more about interactive tables.';\n",
              "          element.innerHTML = '';\n",
              "          dataTable['output_type'] = 'display_data';\n",
              "          await google.colab.output.renderOutput(dataTable, element);\n",
              "          const docLink = document.createElement('div');\n",
              "          docLink.innerHTML = docLinkHtml;\n",
              "          element.appendChild(docLink);\n",
              "        }\n",
              "      </script>\n",
              "    </div>\n",
              "  </div>\n",
              "  "
            ],
            "text/plain": [
              "              0             1         2             3         4             5\n",
              "0  9.118920e-02  9.778071e-07  0.012503  4.921037e-03  0.000954  2.655410e-04\n",
              "1  9.335384e-12  0.000000e+00  0.000000  0.000000e+00  0.000000  0.000000e+00\n",
              "2  8.438808e-19  0.000000e+00  0.000000  0.000000e+00  0.000000  0.000000e+00\n",
              "3  6.779801e-12  0.000000e+00  0.000000  0.000000e+00  0.000000  0.000000e+00\n",
              "4  9.956542e-01  7.480094e-04  0.880914  2.595362e-11  0.088501  5.927832e-09"
            ]
          },
          "execution_count": 27,
          "metadata": {},
          "output_type": "execute_result"
        }
      ],
      "source": [
        "b1.head()"
      ]
    },
    {
      "cell_type": "markdown",
      "source": [
        "## Measure LSTM model Performance "
      ],
      "metadata": {
        "id": "SXTi7Yv9uLME"
      }
    },
    {
      "cell_type": "code",
      "execution_count": null,
      "metadata": {
        "id": "4JZWd0o_7dFO"
      },
      "outputs": [],
      "source": [
        "data_y = pd.DataFrame(y_test)\n",
        "data_y.columns = df.columns[2:]\n",
        "# Choose 0.5 as default threshold  \n",
        "\n",
        "def judge(x):\n",
        "    if x >=0.5:\n",
        "        return 1\n",
        "    else:\n",
        "        return 0"
      ]
    },
    {
      "cell_type": "code",
      "execution_count": null,
      "metadata": {
        "id": "5f-yVTZH7yMs"
      },
      "outputs": [],
      "source": [
        "b1.columns = ['toxic', 'severe_toxic', 'obscene', 'threat', 'insult',\n",
        "       'identity_hate']"
      ]
    },
    {
      "cell_type": "markdown",
      "source": [
        "Calculate Accuracy, F1, precision, Recall... for different category \n"
      ],
      "metadata": {
        "id": "q_yoZnnpuVH5"
      }
    },
    {
      "cell_type": "code",
      "source": [
        "# we can measure these metrics by using the following code all the scores are over 90%"
      ],
      "metadata": {
        "id": "Ve4bKCSCA7SX"
      },
      "execution_count": null,
      "outputs": []
    },
    {
      "cell_type": "code",
      "execution_count": null,
      "metadata": {
        "id": "mCr5TBd17YlW"
      },
      "outputs": [],
      "source": [
        "b1['toxic']= b1['toxic'].apply(judge) \n",
        "\n",
        "y_te_toxic = data_y['toxic']\n",
        "y_pred_toxic=b1['toxic']\n",
        "\n",
        "from sklearn import metrics\n",
        "from sklearn.metrics import roc_curve\n",
        "from sklearn.metrics import accuracy_score, confusion_matrix, classification_report\n",
        "\n",
        "cm = confusion_matrix(y_te_toxic, y_pred_toxic)  \n",
        "\n",
        "cmDF = pd.DataFrame(cm, columns=['pred_0', 'pred_1'], index=['true_0', 'true_1']) \n",
        "recall_r = float(cm[0,0]) / (cm[0,1] + cm[0,0])\n",
        "precision_p = float(cm[0,0]) / (cm[0, 0] + cm[1,0])\n",
        "f1_f = 2*recall_r*precision_p/(recall_r+precision_p)\n",
        "acc_s = accuracy_score(y_te_toxic, y_pred_toxic)\n"
      ]
    },
    {
      "cell_type": "code",
      "execution_count": null,
      "metadata": {
        "colab": {
          "base_uri": "https://localhost:8080/"
        },
        "id": "pAELbjWF71Um",
        "outputId": "f70ee44c-6623-442d-8982-2486595d61c5"
      },
      "outputs": [
        {
          "data": {
            "text/plain": [
              "0.933450307056022"
            ]
          },
          "execution_count": 30,
          "metadata": {},
          "output_type": "execute_result"
        }
      ],
      "source": [
        "acc_s"
      ]
    },
    {
      "cell_type": "markdown",
      "source": [
        "## Part 4: Deploy LSTM Model on Wallstreetbets to discover 'toxic' comments\n",
        "\n"
      ],
      "metadata": {
        "id": "5SqCDWFpuksp"
      }
    },
    {
      "cell_type": "code",
      "execution_count": null,
      "metadata": {
        "id": "EPRCxWA58ExC"
      },
      "outputs": [],
      "source": [
        "aa=[]\n",
        "for i in data['total']:\n",
        "  a = score(i)\n",
        "  aa.append(a)\n",
        "\n",
        "aaa = list(np.concatenate(aa).flat)\n",
        "\n",
        "a1 = np.array(aaa).reshape(53187,6)\n",
        "\n",
        "a1 = pd.DataFrame(a1)"
      ]
    },
    {
      "cell_type": "code",
      "execution_count": null,
      "metadata": {
        "id": "tG0DbsXiqRLq"
      },
      "outputs": [],
      "source": [
        "aaa = list(np.concatenate(aa).flat)\n",
        "\n",
        "a1 = np.array(aaa).reshape(53187,6)\n",
        "\n",
        "a1 = pd.DataFrame(a1)"
      ]
    },
    {
      "cell_type": "code",
      "execution_count": null,
      "metadata": {
        "id": "wItppzhVqXOg"
      },
      "outputs": [],
      "source": [
        "a1.to_csv('a11.csv')"
      ]
    },
    {
      "cell_type": "code",
      "source": [
        "def dig(x):\n",
        "  if x >= 0.5:\n",
        "    return 1\n",
        "  else:\n",
        "    return 0"
      ],
      "metadata": {
        "id": "SOnV9SsB4I6x"
      },
      "execution_count": null,
      "outputs": []
    },
    {
      "cell_type": "code",
      "source": [
        "#a1 = a1.iloc[:,1:]\n",
        "a1.columns = ['toxic', 'severe_toxic', 'obscene', 'threat', 'insult',\n",
        "       'identity_hate']\n",
        "\n",
        "a1['toxic'] = a1['toxic'].apply(dig)\n",
        "a1['severe_toxic'] = a1['severe_toxic'].apply(dig)\n",
        "a1['obscene'] = a1['obscene'].apply(dig)\n",
        "a1['threat'] = a1['threat'].apply(dig)\n",
        "a1['insult'] = a1['insult'].apply(dig)\n",
        "a1['identity_hate'] = a1['identity_hate'].apply(dig)"
      ],
      "metadata": {
        "id": "rWuyb24P3-M8"
      },
      "execution_count": null,
      "outputs": []
    },
    {
      "cell_type": "code",
      "source": [
        "a1.head()"
      ],
      "metadata": {
        "colab": {
          "base_uri": "https://localhost:8080/",
          "height": 206
        },
        "id": "N06M83cx3-Kc",
        "outputId": "0f8f0f01-9dc8-43eb-fdf7-dc62ebc33ab0"
      },
      "execution_count": null,
      "outputs": [
        {
          "output_type": "execute_result",
          "data": {
            "text/plain": [
              "   toxic  severe_toxic  obscene  threat  insult  identity_hate\n",
              "0      0             0        0       0       0              0\n",
              "1      0             0        0       0       0              0\n",
              "2      0             0        0       0       1              0\n",
              "3      0             0        0       0       0              0\n",
              "4      0             0        0       0       0              0"
            ],
            "text/html": [
              "\n",
              "  <div id=\"df-4b93e6a9-e611-483e-8e5e-a7dcd3cb6c8b\">\n",
              "    <div class=\"colab-df-container\">\n",
              "      <div>\n",
              "<style scoped>\n",
              "    .dataframe tbody tr th:only-of-type {\n",
              "        vertical-align: middle;\n",
              "    }\n",
              "\n",
              "    .dataframe tbody tr th {\n",
              "        vertical-align: top;\n",
              "    }\n",
              "\n",
              "    .dataframe thead th {\n",
              "        text-align: right;\n",
              "    }\n",
              "</style>\n",
              "<table border=\"1\" class=\"dataframe\">\n",
              "  <thead>\n",
              "    <tr style=\"text-align: right;\">\n",
              "      <th></th>\n",
              "      <th>toxic</th>\n",
              "      <th>severe_toxic</th>\n",
              "      <th>obscene</th>\n",
              "      <th>threat</th>\n",
              "      <th>insult</th>\n",
              "      <th>identity_hate</th>\n",
              "    </tr>\n",
              "  </thead>\n",
              "  <tbody>\n",
              "    <tr>\n",
              "      <th>0</th>\n",
              "      <td>0</td>\n",
              "      <td>0</td>\n",
              "      <td>0</td>\n",
              "      <td>0</td>\n",
              "      <td>0</td>\n",
              "      <td>0</td>\n",
              "    </tr>\n",
              "    <tr>\n",
              "      <th>1</th>\n",
              "      <td>0</td>\n",
              "      <td>0</td>\n",
              "      <td>0</td>\n",
              "      <td>0</td>\n",
              "      <td>0</td>\n",
              "      <td>0</td>\n",
              "    </tr>\n",
              "    <tr>\n",
              "      <th>2</th>\n",
              "      <td>0</td>\n",
              "      <td>0</td>\n",
              "      <td>0</td>\n",
              "      <td>0</td>\n",
              "      <td>1</td>\n",
              "      <td>0</td>\n",
              "    </tr>\n",
              "    <tr>\n",
              "      <th>3</th>\n",
              "      <td>0</td>\n",
              "      <td>0</td>\n",
              "      <td>0</td>\n",
              "      <td>0</td>\n",
              "      <td>0</td>\n",
              "      <td>0</td>\n",
              "    </tr>\n",
              "    <tr>\n",
              "      <th>4</th>\n",
              "      <td>0</td>\n",
              "      <td>0</td>\n",
              "      <td>0</td>\n",
              "      <td>0</td>\n",
              "      <td>0</td>\n",
              "      <td>0</td>\n",
              "    </tr>\n",
              "  </tbody>\n",
              "</table>\n",
              "</div>\n",
              "      <button class=\"colab-df-convert\" onclick=\"convertToInteractive('df-4b93e6a9-e611-483e-8e5e-a7dcd3cb6c8b')\"\n",
              "              title=\"Convert this dataframe to an interactive table.\"\n",
              "              style=\"display:none;\">\n",
              "        \n",
              "  <svg xmlns=\"http://www.w3.org/2000/svg\" height=\"24px\"viewBox=\"0 0 24 24\"\n",
              "       width=\"24px\">\n",
              "    <path d=\"M0 0h24v24H0V0z\" fill=\"none\"/>\n",
              "    <path d=\"M18.56 5.44l.94 2.06.94-2.06 2.06-.94-2.06-.94-.94-2.06-.94 2.06-2.06.94zm-11 1L8.5 8.5l.94-2.06 2.06-.94-2.06-.94L8.5 2.5l-.94 2.06-2.06.94zm10 10l.94 2.06.94-2.06 2.06-.94-2.06-.94-.94-2.06-.94 2.06-2.06.94z\"/><path d=\"M17.41 7.96l-1.37-1.37c-.4-.4-.92-.59-1.43-.59-.52 0-1.04.2-1.43.59L10.3 9.45l-7.72 7.72c-.78.78-.78 2.05 0 2.83L4 21.41c.39.39.9.59 1.41.59.51 0 1.02-.2 1.41-.59l7.78-7.78 2.81-2.81c.8-.78.8-2.07 0-2.86zM5.41 20L4 18.59l7.72-7.72 1.47 1.35L5.41 20z\"/>\n",
              "  </svg>\n",
              "      </button>\n",
              "      \n",
              "  <style>\n",
              "    .colab-df-container {\n",
              "      display:flex;\n",
              "      flex-wrap:wrap;\n",
              "      gap: 12px;\n",
              "    }\n",
              "\n",
              "    .colab-df-convert {\n",
              "      background-color: #E8F0FE;\n",
              "      border: none;\n",
              "      border-radius: 50%;\n",
              "      cursor: pointer;\n",
              "      display: none;\n",
              "      fill: #1967D2;\n",
              "      height: 32px;\n",
              "      padding: 0 0 0 0;\n",
              "      width: 32px;\n",
              "    }\n",
              "\n",
              "    .colab-df-convert:hover {\n",
              "      background-color: #E2EBFA;\n",
              "      box-shadow: 0px 1px 2px rgba(60, 64, 67, 0.3), 0px 1px 3px 1px rgba(60, 64, 67, 0.15);\n",
              "      fill: #174EA6;\n",
              "    }\n",
              "\n",
              "    [theme=dark] .colab-df-convert {\n",
              "      background-color: #3B4455;\n",
              "      fill: #D2E3FC;\n",
              "    }\n",
              "\n",
              "    [theme=dark] .colab-df-convert:hover {\n",
              "      background-color: #434B5C;\n",
              "      box-shadow: 0px 1px 3px 1px rgba(0, 0, 0, 0.15);\n",
              "      filter: drop-shadow(0px 1px 2px rgba(0, 0, 0, 0.3));\n",
              "      fill: #FFFFFF;\n",
              "    }\n",
              "  </style>\n",
              "\n",
              "      <script>\n",
              "        const buttonEl =\n",
              "          document.querySelector('#df-4b93e6a9-e611-483e-8e5e-a7dcd3cb6c8b button.colab-df-convert');\n",
              "        buttonEl.style.display =\n",
              "          google.colab.kernel.accessAllowed ? 'block' : 'none';\n",
              "\n",
              "        async function convertToInteractive(key) {\n",
              "          const element = document.querySelector('#df-4b93e6a9-e611-483e-8e5e-a7dcd3cb6c8b');\n",
              "          const dataTable =\n",
              "            await google.colab.kernel.invokeFunction('convertToInteractive',\n",
              "                                                     [key], {});\n",
              "          if (!dataTable) return;\n",
              "\n",
              "          const docLinkHtml = 'Like what you see? Visit the ' +\n",
              "            '<a target=\"_blank\" href=https://colab.research.google.com/notebooks/data_table.ipynb>data table notebook</a>'\n",
              "            + ' to learn more about interactive tables.';\n",
              "          element.innerHTML = '';\n",
              "          dataTable['output_type'] = 'display_data';\n",
              "          await google.colab.output.renderOutput(dataTable, element);\n",
              "          const docLink = document.createElement('div');\n",
              "          docLink.innerHTML = docLinkHtml;\n",
              "          element.appendChild(docLink);\n",
              "        }\n",
              "      </script>\n",
              "    </div>\n",
              "  </div>\n",
              "  "
            ]
          },
          "metadata": {},
          "execution_count": 30
        }
      ]
    },
    {
      "cell_type": "markdown",
      "source": [
        "## Save result "
      ],
      "metadata": {
        "id": "138RhFsPvK8I"
      }
    },
    {
      "cell_type": "markdown",
      "source": [
        "At this point, we could get the toxic comments user id"
      ],
      "metadata": {
        "id": "8ScDJVq5BPCM"
      }
    },
    {
      "cell_type": "code",
      "source": [
        "data_c = pd.concat([data, a1], axis = 1)\n",
        "\n",
        "#data_c = data_c.drop(labels = 32591, axis = 0)"
      ],
      "metadata": {
        "id": "vO4CeO_b3-IR"
      },
      "execution_count": null,
      "outputs": []
    },
    {
      "cell_type": "code",
      "source": [
        "data_wsb2 = data_wsb2.iloc[:,2:]"
      ],
      "metadata": {
        "id": "hc6vlEKOI1nQ"
      },
      "execution_count": null,
      "outputs": []
    },
    {
      "cell_type": "code",
      "source": [
        "data_wsb2.head(50)"
      ],
      "metadata": {
        "colab": {
          "base_uri": "https://localhost:8080/",
          "height": 1000
        },
        "id": "8o2DJMsyJJnH",
        "outputId": "4ab216c6-a8e3-4e09-dc6a-7663dba2f4eb"
      },
      "execution_count": null,
      "outputs": [
        {
          "output_type": "execute_result",
          "data": {
            "text/plain": [
              "                                                title  \\\n",
              "0   It's not about the money, it's about sending a...   \n",
              "1   Math Professor Scott Steiner says the numbers ...   \n",
              "2                                     Exit the system   \n",
              "3   NEW SEC FILING FOR GME! CAN SOMEONE LESS RETAR...   \n",
              "4   Not to distract from GME, just thought our AMC...   \n",
              "5                                 WE BREAKING THROUGH   \n",
              "6         SHORT STOCK DOESN'T HAVE AN EXPIRATION DATE   \n",
              "7                                  THIS IS THE MOMENT   \n",
              "8   Currently Holding AMC and NOK - Is it retarded...   \n",
              "9   I have nothing to say but BRUH I am speechless...   \n",
              "10  We need to keep this movement going, we all ca...   \n",
              "11                 GME Premarket 🍁 Musk approved 🎮🛑💎✋   \n",
              "12  Once you're done with GME - $AG and $SLV, the ...   \n",
              "13  $GME price has nothing to do with fundamentals...   \n",
              "14                             I Love You Retards!!!!   \n",
              "15                       420 wasn’t a meme. GME 🚀 🚀 🚀   \n",
              "16                        To The Mass Relays & Beyond   \n",
              "17  I come back to you now... At the turn of the t...   \n",
              "18   9 words brought to you by the fuckers at the SEC   \n",
              "19       Daily Discussion Thread for January 28, 2021   \n",
              "20  GME 420.69 Pre-Market. Repeat after me: $1000 ...   \n",
              "21  We need to stick together and 💎🖐 the ever lovi...   \n",
              "22  Patcher and other media outlets calling this a...   \n",
              "23    I'm so proud of how far this subreddit has come   \n",
              "24  Technical Analysis of GameStop ($GME) - TO THE...   \n",
              "25     Really? I can’t even buy GME or AMC for now? 😤   \n",
              "26        I’ve got a friend who is all in on GME 🚀💎🙌🏼   \n",
              "27      Y'all broke it. How do we fix it? Any advice?   \n",
              "28  JUST PUT IN ANOTHER 30K IN NOK CALLS LET'S GO!...   \n",
              "29  It ain’t much, but I’m in! From Germany to the...   \n",
              "30            Are we ready to attack the Citadel !!!!   \n",
              "31  Another devastating hit, Europoors using Tradi...   \n",
              "32                $GME back up to ~350USD after hours   \n",
              "33  I don’t have as much as the rest of you guys b...   \n",
              "34  They're trying to say this was all done by 'Na...   \n",
              "35     My brokerage wants to force close my GME calls   \n",
              "36  Guys i just want to say , i never been more pr...   \n",
              "37                                     Iacta alea est   \n",
              "38                                Rocketship to Mars!   \n",
              "39             There is an alternative to this system   \n",
              "40  Feeling like exercising, dunno may delete this...   \n",
              "41                          wsb_churchill_speech.mp69   \n",
              "42  GME Gang - 34 Consecutive Days on NYSE Thresho...   \n",
              "43  Woke up to an extra $25k. Think the app took a...   \n",
              "44  Why is GME blank I have 2 screen shots 2am cal...   \n",
              "45                       THE DARK STOCK RISES.... 🚀🦇🚀   \n",
              "46  The real price for GME is infinity, but at tha...   \n",
              "47     OG's......Prepare to show the world who we are   \n",
              "48  Here's a little background about one of the le...   \n",
              "49                                               $GME   \n",
              "\n",
              "                                                 body  \\\n",
              "0                                                 NaN   \n",
              "1                                                 NaN   \n",
              "2   The CEO of NASDAQ pushed to halt trading “to g...   \n",
              "3                                                 NaN   \n",
              "4                                                 NaN   \n",
              "5                                                 NaN   \n",
              "6   Hedgefund whales are spreading disinfo saying ...   \n",
              "7   Life isn't fair. My mother always told me that...   \n",
              "8                                                 NaN   \n",
              "9                                                 NaN   \n",
              "10   I believe right now is one of those rare oppo...   \n",
              "11                                                NaN   \n",
              "12  You guys are champs. GME... who would have tho...   \n",
              "13  Firstly, all of you diamond hands and smooth-b...   \n",
              "14                                                NaN   \n",
              "15                                                NaN   \n",
              "16                                                NaN   \n",
              "17                                                NaN   \n",
              "18                                                NaN   \n",
              "19  Your daily trading discussion thread. Please k...   \n",
              "20                                                NaN   \n",
              "21  This is our time. If anyone will listen to you...   \n",
              "22                                                NaN   \n",
              "23  I still remember when I first joined and most ...   \n",
              "24                                                NaN   \n",
              "25                                                NaN   \n",
              "26                                                NaN   \n",
              "27                                                NaN   \n",
              "28                                                NaN   \n",
              "29                                                NaN   \n",
              "30                       https://youtu.be/BtjhgcAMYU0   \n",
              "31                                                NaN   \n",
              "32                                                NaN   \n",
              "33                                                NaN   \n",
              "34                                                NaN   \n",
              "35  My brokerage called me and asked me to close m...   \n",
              "36                                                NaN   \n",
              "37  I was the lucky one in my family.  In 2008 I w...   \n",
              "38  # Hold/Buy until GME marketcap is higher than ...   \n",
              "39  How fucking stupid is it that retail gets no c...   \n",
              "40                                                NaN   \n",
              "41                                                NaN   \n",
              "42                                                NaN   \n",
              "43                                                NaN   \n",
              "44                                                NaN   \n",
              "45                                                NaN   \n",
              "46  Lets imagine GME has gone to 50,000. The marke...   \n",
              "47  The time has come for us to show the world who...   \n",
              "48  To all who is supporting GME( movie land, the ...   \n",
              "49                                                NaN   \n",
              "\n",
              "                                                total            timestamp  \\\n",
              "0   It's not about the money, it's about sending a...  2021-01-28 21:37:41   \n",
              "1   Math Professor Scott Steiner says the numbers ...  2021-01-28 21:32:10   \n",
              "2   Exit the system. The CEO of NASDAQ pushed to h...  2021-01-28 21:30:35   \n",
              "3   NEW SEC FILING FOR GME! CAN SOMEONE LESS RETAR...  2021-01-28 21:28:57   \n",
              "4   Not to distract from GME, just thought our AMC...  2021-01-28 21:26:56   \n",
              "5                               WE BREAKING THROUGH.   2021-01-28 21:26:30   \n",
              "6   SHORT STOCK DOESN'T HAVE AN EXPIRATION DATE. H...  2021-01-28 21:26:27   \n",
              "7   THIS IS THE MOMENT. Life isn't fair. My mother...  2021-01-28 21:19:31   \n",
              "8   Currently Holding AMC and NOK - Is it retarded...  2021-01-28 21:19:16   \n",
              "9   I have nothing to say but BRUH I am speechless...  2021-01-28 21:18:37   \n",
              "10  We need to keep this movement going, we all ca...  2021-01-28 21:18:25   \n",
              "11               GME Premarket 🍁 Musk approved 🎮🛑💎✋.   2021-01-28 21:17:28   \n",
              "12  Once you're done with GME - $AG and $SLV, the ...  2021-01-28 21:17:10   \n",
              "13  $GME price has nothing to do with fundamentals...  2021-01-28 21:15:58   \n",
              "14                           I Love You Retards!!!!.   2021-01-28 21:14:44   \n",
              "15                     420 wasn’t a meme. GME 🚀 🚀 🚀.   2021-01-28 21:14:43   \n",
              "16                      To The Mass Relays & Beyond.   2021-01-28 21:09:32   \n",
              "17  I come back to you now... At the turn of the t...  2021-01-28 21:06:53   \n",
              "18  9 words brought to you by the fuckers at the S...  2021-01-28 21:05:01   \n",
              "19  Daily Discussion Thread for January 28, 2021. ...  2021-01-28 21:00:15   \n",
              "20  GME 420.69 Pre-Market. Repeat after me: $1000 ...  2021-01-28 20:59:57   \n",
              "21  We need to stick together and 💎🖐 the ever lovi...  2021-01-28 20:54:08   \n",
              "22  Patcher and other media outlets calling this a...  2021-01-28 20:53:46   \n",
              "23  I'm so proud of how far this subreddit has com...  2021-01-28 20:49:39   \n",
              "24  Technical Analysis of GameStop ($GME) - TO THE...  2021-01-28 20:48:16   \n",
              "25   Really? I can’t even buy GME or AMC for now? 😤.   2021-01-28 20:47:20   \n",
              "26      I’ve got a friend who is all in on GME 🚀💎🙌🏼.   2021-01-28 20:46:58   \n",
              "27    Y'all broke it. How do we fix it? Any advice?.   2021-01-28 20:42:46   \n",
              "28  JUST PUT IN ANOTHER 30K IN NOK CALLS LET'S GO!...  2021-01-28 20:40:07   \n",
              "29  It ain’t much, but I’m in! From Germany to the...  2021-01-28 20:38:03   \n",
              "30  Are we ready to attack the Citadel !!!!. https...  2021-01-28 20:37:36   \n",
              "31  Another devastating hit, Europoors using Tradi...  2021-01-28 20:32:25   \n",
              "32              $GME back up to ~350USD after hours.   2021-01-28 20:31:19   \n",
              "33  I don’t have as much as the rest of you guys b...  2021-01-28 20:30:20   \n",
              "34  They're trying to say this was all done by 'Na...  2021-01-28 20:21:46   \n",
              "35  My brokerage wants to force close my GME calls...  2021-01-28 20:18:32   \n",
              "36  Guys i just want to say , i never been more pr...  2021-01-28 20:17:02   \n",
              "37  Iacta alea est. I was the lucky one in my fami...  2021-01-28 20:16:28   \n",
              "38  Rocketship to Mars!. # Hold/Buy until GME mark...  2021-01-28 20:14:23   \n",
              "39  There is an alternative to this system. How fu...  2021-01-28 20:12:07   \n",
              "40  Feeling like exercising, dunno may delete this...  2021-01-28 20:12:06   \n",
              "41                        wsb_churchill_speech.mp69.   2021-01-28 20:08:41   \n",
              "42  GME Gang - 34 Consecutive Days on NYSE Thresho...  2021-01-28 20:02:44   \n",
              "43  Woke up to an extra $25k. Think the app took a...  2021-01-28 20:01:22   \n",
              "44  Why is GME blank I have 2 screen shots 2am cal...  2021-01-28 20:01:05   \n",
              "45                     THE DARK STOCK RISES.... 🚀🦇🚀.   2021-01-28 19:58:14   \n",
              "46  The real price for GME is infinity, but at tha...  2021-01-28 19:57:53   \n",
              "47  OG's......Prepare to show the world who we are...  2021-01-28 19:54:44   \n",
              "48  Here's a little background about one of the le...  2021-01-28 19:52:43   \n",
              "49                                             $GME.   2021-01-28 19:52:17   \n",
              "\n",
              "    sentiment  comms_num      id  toxic  severe_toxic  obscene  threat  \\\n",
              "0           1          6  l6ulcx      0             0        0       0   \n",
              "1           2         23  l6uibd      0             0        0       0   \n",
              "2           1         47  l6uhhn      0             0        0       0   \n",
              "3           5         74  l6ugk6      0             0        0       0   \n",
              "4           3        156  l6ufgy      0             0        0       0   \n",
              "5           1         84  l6uf7d      0             0        0       0   \n",
              "6           2         53  l6uf6d      0             0        0       0   \n",
              "7           5        178  l6ub9l      0             0        0       0   \n",
              "8           3        161  l6ub4i      0             0        0       0   \n",
              "9           1         27  l6uas9      0             0        0       1   \n",
              "10          5         70  l6uao1      0             0        0       0   \n",
              "11          5         97  l6ua2q      0             0        0       0   \n",
              "12          5         16  l6u9wu      1             0        0       0   \n",
              "13          1         61  l6u96y      0             0        0       0   \n",
              "14          5         32  l6u8hc      1             0        0       0   \n",
              "15          1         49  l6u8gs      0             0        0       0   \n",
              "16          5         14  l6u5j2      0             0        0       0   \n",
              "17          5         33  l6u40m      1             0        0       0   \n",
              "18          5         41  l6u2x7      1             0        1       0   \n",
              "19          4       5942  l6u011      0             0        0       0   \n",
              "20          1        646  l6tzq1      0             0        0       0   \n",
              "21          5        323  l6two5      0             0        0       0   \n",
              "22          1         69  l6twg7      0             0        0       0   \n",
              "23          5         89  l6tuae      0             0        0       0   \n",
              "24          4        117  l6ttk8      0             0        0       0   \n",
              "25          1        376  l6tt3i      0             0        0       0   \n",
              "26          5         43  l6tsx4      0             0        0       0   \n",
              "27          1        140  l6tqpv      0             0        0       0   \n",
              "28          1        146  l6tpdl      0             0        0       0   \n",
              "29          5        169  l6tocg      0             0        0       0   \n",
              "30          5         32  l6to43      0             0        0       0   \n",
              "31          1        467  l6tlew      0             0        0       0   \n",
              "32          1        131  l6tkvw      0             0        0       0   \n",
              "33          5         60  l6tke3      1             0        1       0   \n",
              "34          1        274  l6tfyh      1             0        0       0   \n",
              "35          1        215  l6te9s      0             0        0       0   \n",
              "36          5        189  l6tdfc      0             0        0       0   \n",
              "37          1         30  l6td49      0             0        0       0   \n",
              "38          5         90  l6tbye      0             0        0       0   \n",
              "39          4         94  l6tauf      1             0        0       0   \n",
              "40          3        114  l6tatz      0             0        0       0   \n",
              "41          5         15  l6t908      0             0        0       0   \n",
              "42          1         51  l6t5uo      0             0        0       0   \n",
              "43          1         52  l6t544      0             0        0       0   \n",
              "44          1         58  l6t4y7      1             0        1       0   \n",
              "45          3         71  l6t3a1      0             0        0       0   \n",
              "46          1        120  l6t34h      0             0        0       0   \n",
              "47          5         98  l6t1jl      0             0        0       0   \n",
              "48          3        117  l6t0ha      0             0        0       0   \n",
              "49          1         48  l6t08k      0             0        0       0   \n",
              "\n",
              "    insult  identity_hate  vader_score  sentiment_total  \n",
              "0        0              0       0.0000                1  \n",
              "1        0              0      -0.7034                2  \n",
              "2        1              0      -0.7644                1  \n",
              "3        0              0      -0.3397                5  \n",
              "4        0              0       0.2235                3  \n",
              "5        0              0       0.0000                1  \n",
              "6        0              0       0.8663                2  \n",
              "7        0              0      -0.9949                5  \n",
              "8        1              0      -0.5719                3  \n",
              "9        0              0       0.8625                1  \n",
              "10       0              0       0.8513                5  \n",
              "11       0              0       0.5859                5  \n",
              "12       0              0       0.9724                5  \n",
              "13       0              0       0.9951                1  \n",
              "14       0              0       0.7482                5  \n",
              "15       0              0       0.0000                1  \n",
              "16       1              0       0.0000                5  \n",
              "17       0              0       0.0000                5  \n",
              "18       1              0      -0.5994                5  \n",
              "19       0              0       0.9961                4  \n",
              "20       0              0       0.0000                1  \n",
              "21       0              0       0.9697                5  \n",
              "22       0              0       0.0000                1  \n",
              "23       0              0       0.9918                5  \n",
              "24       0              0       0.0000                4  \n",
              "25       0              0       0.0000                1  \n",
              "26       0              0       0.4939                5  \n",
              "27       0              0      -0.4871                1  \n",
              "28       0              0       0.0000                1  \n",
              "29       0              0       0.0000                5  \n",
              "30       0              0      -0.4153                5  \n",
              "31       0              0      -0.6900                1  \n",
              "32       0              0       0.0000                1  \n",
              "33       0              0       0.8118                5  \n",
              "34       0              0       0.0000                1  \n",
              "35       0              0      -0.2249                1  \n",
              "36       0              0      -0.3550                5  \n",
              "37       0              0       0.9665                1  \n",
              "38       0              0       0.4885                5  \n",
              "39       0              0      -0.3391                4  \n",
              "40       0              0       0.4588                3  \n",
              "41       0              0       0.0000                5  \n",
              "42       0              0       0.3595                1  \n",
              "43       0              0       0.5267                1  \n",
              "44       0              0      -0.5859                1  \n",
              "45       0              0       0.0000                3  \n",
              "46       0              0      -0.9855                1  \n",
              "47       0              0      -0.3612                5  \n",
              "48       0              0      -0.7960                3  \n",
              "49       0              0       0.0000                1  "
            ],
            "text/html": [
              "\n",
              "  <div id=\"df-18950ec3-fac0-478a-a9f1-e652f42d7a06\">\n",
              "    <div class=\"colab-df-container\">\n",
              "      <div>\n",
              "<style scoped>\n",
              "    .dataframe tbody tr th:only-of-type {\n",
              "        vertical-align: middle;\n",
              "    }\n",
              "\n",
              "    .dataframe tbody tr th {\n",
              "        vertical-align: top;\n",
              "    }\n",
              "\n",
              "    .dataframe thead th {\n",
              "        text-align: right;\n",
              "    }\n",
              "</style>\n",
              "<table border=\"1\" class=\"dataframe\">\n",
              "  <thead>\n",
              "    <tr style=\"text-align: right;\">\n",
              "      <th></th>\n",
              "      <th>title</th>\n",
              "      <th>body</th>\n",
              "      <th>total</th>\n",
              "      <th>timestamp</th>\n",
              "      <th>sentiment</th>\n",
              "      <th>comms_num</th>\n",
              "      <th>id</th>\n",
              "      <th>toxic</th>\n",
              "      <th>severe_toxic</th>\n",
              "      <th>obscene</th>\n",
              "      <th>threat</th>\n",
              "      <th>insult</th>\n",
              "      <th>identity_hate</th>\n",
              "      <th>vader_score</th>\n",
              "      <th>sentiment_total</th>\n",
              "    </tr>\n",
              "  </thead>\n",
              "  <tbody>\n",
              "    <tr>\n",
              "      <th>0</th>\n",
              "      <td>It's not about the money, it's about sending a...</td>\n",
              "      <td>NaN</td>\n",
              "      <td>It's not about the money, it's about sending a...</td>\n",
              "      <td>2021-01-28 21:37:41</td>\n",
              "      <td>1</td>\n",
              "      <td>6</td>\n",
              "      <td>l6ulcx</td>\n",
              "      <td>0</td>\n",
              "      <td>0</td>\n",
              "      <td>0</td>\n",
              "      <td>0</td>\n",
              "      <td>0</td>\n",
              "      <td>0</td>\n",
              "      <td>0.0000</td>\n",
              "      <td>1</td>\n",
              "    </tr>\n",
              "    <tr>\n",
              "      <th>1</th>\n",
              "      <td>Math Professor Scott Steiner says the numbers ...</td>\n",
              "      <td>NaN</td>\n",
              "      <td>Math Professor Scott Steiner says the numbers ...</td>\n",
              "      <td>2021-01-28 21:32:10</td>\n",
              "      <td>2</td>\n",
              "      <td>23</td>\n",
              "      <td>l6uibd</td>\n",
              "      <td>0</td>\n",
              "      <td>0</td>\n",
              "      <td>0</td>\n",
              "      <td>0</td>\n",
              "      <td>0</td>\n",
              "      <td>0</td>\n",
              "      <td>-0.7034</td>\n",
              "      <td>2</td>\n",
              "    </tr>\n",
              "    <tr>\n",
              "      <th>2</th>\n",
              "      <td>Exit the system</td>\n",
              "      <td>The CEO of NASDAQ pushed to halt trading “to g...</td>\n",
              "      <td>Exit the system. The CEO of NASDAQ pushed to h...</td>\n",
              "      <td>2021-01-28 21:30:35</td>\n",
              "      <td>1</td>\n",
              "      <td>47</td>\n",
              "      <td>l6uhhn</td>\n",
              "      <td>0</td>\n",
              "      <td>0</td>\n",
              "      <td>0</td>\n",
              "      <td>0</td>\n",
              "      <td>1</td>\n",
              "      <td>0</td>\n",
              "      <td>-0.7644</td>\n",
              "      <td>1</td>\n",
              "    </tr>\n",
              "    <tr>\n",
              "      <th>3</th>\n",
              "      <td>NEW SEC FILING FOR GME! CAN SOMEONE LESS RETAR...</td>\n",
              "      <td>NaN</td>\n",
              "      <td>NEW SEC FILING FOR GME! CAN SOMEONE LESS RETAR...</td>\n",
              "      <td>2021-01-28 21:28:57</td>\n",
              "      <td>5</td>\n",
              "      <td>74</td>\n",
              "      <td>l6ugk6</td>\n",
              "      <td>0</td>\n",
              "      <td>0</td>\n",
              "      <td>0</td>\n",
              "      <td>0</td>\n",
              "      <td>0</td>\n",
              "      <td>0</td>\n",
              "      <td>-0.3397</td>\n",
              "      <td>5</td>\n",
              "    </tr>\n",
              "    <tr>\n",
              "      <th>4</th>\n",
              "      <td>Not to distract from GME, just thought our AMC...</td>\n",
              "      <td>NaN</td>\n",
              "      <td>Not to distract from GME, just thought our AMC...</td>\n",
              "      <td>2021-01-28 21:26:56</td>\n",
              "      <td>3</td>\n",
              "      <td>156</td>\n",
              "      <td>l6ufgy</td>\n",
              "      <td>0</td>\n",
              "      <td>0</td>\n",
              "      <td>0</td>\n",
              "      <td>0</td>\n",
              "      <td>0</td>\n",
              "      <td>0</td>\n",
              "      <td>0.2235</td>\n",
              "      <td>3</td>\n",
              "    </tr>\n",
              "    <tr>\n",
              "      <th>5</th>\n",
              "      <td>WE BREAKING THROUGH</td>\n",
              "      <td>NaN</td>\n",
              "      <td>WE BREAKING THROUGH.</td>\n",
              "      <td>2021-01-28 21:26:30</td>\n",
              "      <td>1</td>\n",
              "      <td>84</td>\n",
              "      <td>l6uf7d</td>\n",
              "      <td>0</td>\n",
              "      <td>0</td>\n",
              "      <td>0</td>\n",
              "      <td>0</td>\n",
              "      <td>0</td>\n",
              "      <td>0</td>\n",
              "      <td>0.0000</td>\n",
              "      <td>1</td>\n",
              "    </tr>\n",
              "    <tr>\n",
              "      <th>6</th>\n",
              "      <td>SHORT STOCK DOESN'T HAVE AN EXPIRATION DATE</td>\n",
              "      <td>Hedgefund whales are spreading disinfo saying ...</td>\n",
              "      <td>SHORT STOCK DOESN'T HAVE AN EXPIRATION DATE. H...</td>\n",
              "      <td>2021-01-28 21:26:27</td>\n",
              "      <td>2</td>\n",
              "      <td>53</td>\n",
              "      <td>l6uf6d</td>\n",
              "      <td>0</td>\n",
              "      <td>0</td>\n",
              "      <td>0</td>\n",
              "      <td>0</td>\n",
              "      <td>0</td>\n",
              "      <td>0</td>\n",
              "      <td>0.8663</td>\n",
              "      <td>2</td>\n",
              "    </tr>\n",
              "    <tr>\n",
              "      <th>7</th>\n",
              "      <td>THIS IS THE MOMENT</td>\n",
              "      <td>Life isn't fair. My mother always told me that...</td>\n",
              "      <td>THIS IS THE MOMENT. Life isn't fair. My mother...</td>\n",
              "      <td>2021-01-28 21:19:31</td>\n",
              "      <td>5</td>\n",
              "      <td>178</td>\n",
              "      <td>l6ub9l</td>\n",
              "      <td>0</td>\n",
              "      <td>0</td>\n",
              "      <td>0</td>\n",
              "      <td>0</td>\n",
              "      <td>0</td>\n",
              "      <td>0</td>\n",
              "      <td>-0.9949</td>\n",
              "      <td>5</td>\n",
              "    </tr>\n",
              "    <tr>\n",
              "      <th>8</th>\n",
              "      <td>Currently Holding AMC and NOK - Is it retarded...</td>\n",
              "      <td>NaN</td>\n",
              "      <td>Currently Holding AMC and NOK - Is it retarded...</td>\n",
              "      <td>2021-01-28 21:19:16</td>\n",
              "      <td>3</td>\n",
              "      <td>161</td>\n",
              "      <td>l6ub4i</td>\n",
              "      <td>0</td>\n",
              "      <td>0</td>\n",
              "      <td>0</td>\n",
              "      <td>0</td>\n",
              "      <td>1</td>\n",
              "      <td>0</td>\n",
              "      <td>-0.5719</td>\n",
              "      <td>3</td>\n",
              "    </tr>\n",
              "    <tr>\n",
              "      <th>9</th>\n",
              "      <td>I have nothing to say but BRUH I am speechless...</td>\n",
              "      <td>NaN</td>\n",
              "      <td>I have nothing to say but BRUH I am speechless...</td>\n",
              "      <td>2021-01-28 21:18:37</td>\n",
              "      <td>1</td>\n",
              "      <td>27</td>\n",
              "      <td>l6uas9</td>\n",
              "      <td>0</td>\n",
              "      <td>0</td>\n",
              "      <td>0</td>\n",
              "      <td>1</td>\n",
              "      <td>0</td>\n",
              "      <td>0</td>\n",
              "      <td>0.8625</td>\n",
              "      <td>1</td>\n",
              "    </tr>\n",
              "    <tr>\n",
              "      <th>10</th>\n",
              "      <td>We need to keep this movement going, we all ca...</td>\n",
              "      <td>I believe right now is one of those rare oppo...</td>\n",
              "      <td>We need to keep this movement going, we all ca...</td>\n",
              "      <td>2021-01-28 21:18:25</td>\n",
              "      <td>5</td>\n",
              "      <td>70</td>\n",
              "      <td>l6uao1</td>\n",
              "      <td>0</td>\n",
              "      <td>0</td>\n",
              "      <td>0</td>\n",
              "      <td>0</td>\n",
              "      <td>0</td>\n",
              "      <td>0</td>\n",
              "      <td>0.8513</td>\n",
              "      <td>5</td>\n",
              "    </tr>\n",
              "    <tr>\n",
              "      <th>11</th>\n",
              "      <td>GME Premarket 🍁 Musk approved 🎮🛑💎✋</td>\n",
              "      <td>NaN</td>\n",
              "      <td>GME Premarket 🍁 Musk approved 🎮🛑💎✋.</td>\n",
              "      <td>2021-01-28 21:17:28</td>\n",
              "      <td>5</td>\n",
              "      <td>97</td>\n",
              "      <td>l6ua2q</td>\n",
              "      <td>0</td>\n",
              "      <td>0</td>\n",
              "      <td>0</td>\n",
              "      <td>0</td>\n",
              "      <td>0</td>\n",
              "      <td>0</td>\n",
              "      <td>0.5859</td>\n",
              "      <td>5</td>\n",
              "    </tr>\n",
              "    <tr>\n",
              "      <th>12</th>\n",
              "      <td>Once you're done with GME - $AG and $SLV, the ...</td>\n",
              "      <td>You guys are champs. GME... who would have tho...</td>\n",
              "      <td>Once you're done with GME - $AG and $SLV, the ...</td>\n",
              "      <td>2021-01-28 21:17:10</td>\n",
              "      <td>5</td>\n",
              "      <td>16</td>\n",
              "      <td>l6u9wu</td>\n",
              "      <td>1</td>\n",
              "      <td>0</td>\n",
              "      <td>0</td>\n",
              "      <td>0</td>\n",
              "      <td>0</td>\n",
              "      <td>0</td>\n",
              "      <td>0.9724</td>\n",
              "      <td>5</td>\n",
              "    </tr>\n",
              "    <tr>\n",
              "      <th>13</th>\n",
              "      <td>$GME price has nothing to do with fundamentals...</td>\n",
              "      <td>Firstly, all of you diamond hands and smooth-b...</td>\n",
              "      <td>$GME price has nothing to do with fundamentals...</td>\n",
              "      <td>2021-01-28 21:15:58</td>\n",
              "      <td>1</td>\n",
              "      <td>61</td>\n",
              "      <td>l6u96y</td>\n",
              "      <td>0</td>\n",
              "      <td>0</td>\n",
              "      <td>0</td>\n",
              "      <td>0</td>\n",
              "      <td>0</td>\n",
              "      <td>0</td>\n",
              "      <td>0.9951</td>\n",
              "      <td>1</td>\n",
              "    </tr>\n",
              "    <tr>\n",
              "      <th>14</th>\n",
              "      <td>I Love You Retards!!!!</td>\n",
              "      <td>NaN</td>\n",
              "      <td>I Love You Retards!!!!.</td>\n",
              "      <td>2021-01-28 21:14:44</td>\n",
              "      <td>5</td>\n",
              "      <td>32</td>\n",
              "      <td>l6u8hc</td>\n",
              "      <td>1</td>\n",
              "      <td>0</td>\n",
              "      <td>0</td>\n",
              "      <td>0</td>\n",
              "      <td>0</td>\n",
              "      <td>0</td>\n",
              "      <td>0.7482</td>\n",
              "      <td>5</td>\n",
              "    </tr>\n",
              "    <tr>\n",
              "      <th>15</th>\n",
              "      <td>420 wasn’t a meme. GME 🚀 🚀 🚀</td>\n",
              "      <td>NaN</td>\n",
              "      <td>420 wasn’t a meme. GME 🚀 🚀 🚀.</td>\n",
              "      <td>2021-01-28 21:14:43</td>\n",
              "      <td>1</td>\n",
              "      <td>49</td>\n",
              "      <td>l6u8gs</td>\n",
              "      <td>0</td>\n",
              "      <td>0</td>\n",
              "      <td>0</td>\n",
              "      <td>0</td>\n",
              "      <td>0</td>\n",
              "      <td>0</td>\n",
              "      <td>0.0000</td>\n",
              "      <td>1</td>\n",
              "    </tr>\n",
              "    <tr>\n",
              "      <th>16</th>\n",
              "      <td>To The Mass Relays &amp; Beyond</td>\n",
              "      <td>NaN</td>\n",
              "      <td>To The Mass Relays &amp; Beyond.</td>\n",
              "      <td>2021-01-28 21:09:32</td>\n",
              "      <td>5</td>\n",
              "      <td>14</td>\n",
              "      <td>l6u5j2</td>\n",
              "      <td>0</td>\n",
              "      <td>0</td>\n",
              "      <td>0</td>\n",
              "      <td>0</td>\n",
              "      <td>1</td>\n",
              "      <td>0</td>\n",
              "      <td>0.0000</td>\n",
              "      <td>5</td>\n",
              "    </tr>\n",
              "    <tr>\n",
              "      <th>17</th>\n",
              "      <td>I come back to you now... At the turn of the t...</td>\n",
              "      <td>NaN</td>\n",
              "      <td>I come back to you now... At the turn of the t...</td>\n",
              "      <td>2021-01-28 21:06:53</td>\n",
              "      <td>5</td>\n",
              "      <td>33</td>\n",
              "      <td>l6u40m</td>\n",
              "      <td>1</td>\n",
              "      <td>0</td>\n",
              "      <td>0</td>\n",
              "      <td>0</td>\n",
              "      <td>0</td>\n",
              "      <td>0</td>\n",
              "      <td>0.0000</td>\n",
              "      <td>5</td>\n",
              "    </tr>\n",
              "    <tr>\n",
              "      <th>18</th>\n",
              "      <td>9 words brought to you by the fuckers at the SEC</td>\n",
              "      <td>NaN</td>\n",
              "      <td>9 words brought to you by the fuckers at the S...</td>\n",
              "      <td>2021-01-28 21:05:01</td>\n",
              "      <td>5</td>\n",
              "      <td>41</td>\n",
              "      <td>l6u2x7</td>\n",
              "      <td>1</td>\n",
              "      <td>0</td>\n",
              "      <td>1</td>\n",
              "      <td>0</td>\n",
              "      <td>1</td>\n",
              "      <td>0</td>\n",
              "      <td>-0.5994</td>\n",
              "      <td>5</td>\n",
              "    </tr>\n",
              "    <tr>\n",
              "      <th>19</th>\n",
              "      <td>Daily Discussion Thread for January 28, 2021</td>\n",
              "      <td>Your daily trading discussion thread. Please k...</td>\n",
              "      <td>Daily Discussion Thread for January 28, 2021. ...</td>\n",
              "      <td>2021-01-28 21:00:15</td>\n",
              "      <td>4</td>\n",
              "      <td>5942</td>\n",
              "      <td>l6u011</td>\n",
              "      <td>0</td>\n",
              "      <td>0</td>\n",
              "      <td>0</td>\n",
              "      <td>0</td>\n",
              "      <td>0</td>\n",
              "      <td>0</td>\n",
              "      <td>0.9961</td>\n",
              "      <td>4</td>\n",
              "    </tr>\n",
              "    <tr>\n",
              "      <th>20</th>\n",
              "      <td>GME 420.69 Pre-Market. Repeat after me: $1000 ...</td>\n",
              "      <td>NaN</td>\n",
              "      <td>GME 420.69 Pre-Market. Repeat after me: $1000 ...</td>\n",
              "      <td>2021-01-28 20:59:57</td>\n",
              "      <td>1</td>\n",
              "      <td>646</td>\n",
              "      <td>l6tzq1</td>\n",
              "      <td>0</td>\n",
              "      <td>0</td>\n",
              "      <td>0</td>\n",
              "      <td>0</td>\n",
              "      <td>0</td>\n",
              "      <td>0</td>\n",
              "      <td>0.0000</td>\n",
              "      <td>1</td>\n",
              "    </tr>\n",
              "    <tr>\n",
              "      <th>21</th>\n",
              "      <td>We need to stick together and 💎🖐 the ever lovi...</td>\n",
              "      <td>This is our time. If anyone will listen to you...</td>\n",
              "      <td>We need to stick together and 💎🖐 the ever lovi...</td>\n",
              "      <td>2021-01-28 20:54:08</td>\n",
              "      <td>5</td>\n",
              "      <td>323</td>\n",
              "      <td>l6two5</td>\n",
              "      <td>0</td>\n",
              "      <td>0</td>\n",
              "      <td>0</td>\n",
              "      <td>0</td>\n",
              "      <td>0</td>\n",
              "      <td>0</td>\n",
              "      <td>0.9697</td>\n",
              "      <td>5</td>\n",
              "    </tr>\n",
              "    <tr>\n",
              "      <th>22</th>\n",
              "      <td>Patcher and other media outlets calling this a...</td>\n",
              "      <td>NaN</td>\n",
              "      <td>Patcher and other media outlets calling this a...</td>\n",
              "      <td>2021-01-28 20:53:46</td>\n",
              "      <td>1</td>\n",
              "      <td>69</td>\n",
              "      <td>l6twg7</td>\n",
              "      <td>0</td>\n",
              "      <td>0</td>\n",
              "      <td>0</td>\n",
              "      <td>0</td>\n",
              "      <td>0</td>\n",
              "      <td>0</td>\n",
              "      <td>0.0000</td>\n",
              "      <td>1</td>\n",
              "    </tr>\n",
              "    <tr>\n",
              "      <th>23</th>\n",
              "      <td>I'm so proud of how far this subreddit has come</td>\n",
              "      <td>I still remember when I first joined and most ...</td>\n",
              "      <td>I'm so proud of how far this subreddit has com...</td>\n",
              "      <td>2021-01-28 20:49:39</td>\n",
              "      <td>5</td>\n",
              "      <td>89</td>\n",
              "      <td>l6tuae</td>\n",
              "      <td>0</td>\n",
              "      <td>0</td>\n",
              "      <td>0</td>\n",
              "      <td>0</td>\n",
              "      <td>0</td>\n",
              "      <td>0</td>\n",
              "      <td>0.9918</td>\n",
              "      <td>5</td>\n",
              "    </tr>\n",
              "    <tr>\n",
              "      <th>24</th>\n",
              "      <td>Technical Analysis of GameStop ($GME) - TO THE...</td>\n",
              "      <td>NaN</td>\n",
              "      <td>Technical Analysis of GameStop ($GME) - TO THE...</td>\n",
              "      <td>2021-01-28 20:48:16</td>\n",
              "      <td>4</td>\n",
              "      <td>117</td>\n",
              "      <td>l6ttk8</td>\n",
              "      <td>0</td>\n",
              "      <td>0</td>\n",
              "      <td>0</td>\n",
              "      <td>0</td>\n",
              "      <td>0</td>\n",
              "      <td>0</td>\n",
              "      <td>0.0000</td>\n",
              "      <td>4</td>\n",
              "    </tr>\n",
              "    <tr>\n",
              "      <th>25</th>\n",
              "      <td>Really? I can’t even buy GME or AMC for now? 😤</td>\n",
              "      <td>NaN</td>\n",
              "      <td>Really? I can’t even buy GME or AMC for now? 😤.</td>\n",
              "      <td>2021-01-28 20:47:20</td>\n",
              "      <td>1</td>\n",
              "      <td>376</td>\n",
              "      <td>l6tt3i</td>\n",
              "      <td>0</td>\n",
              "      <td>0</td>\n",
              "      <td>0</td>\n",
              "      <td>0</td>\n",
              "      <td>0</td>\n",
              "      <td>0</td>\n",
              "      <td>0.0000</td>\n",
              "      <td>1</td>\n",
              "    </tr>\n",
              "    <tr>\n",
              "      <th>26</th>\n",
              "      <td>I’ve got a friend who is all in on GME 🚀💎🙌🏼</td>\n",
              "      <td>NaN</td>\n",
              "      <td>I’ve got a friend who is all in on GME 🚀💎🙌🏼.</td>\n",
              "      <td>2021-01-28 20:46:58</td>\n",
              "      <td>5</td>\n",
              "      <td>43</td>\n",
              "      <td>l6tsx4</td>\n",
              "      <td>0</td>\n",
              "      <td>0</td>\n",
              "      <td>0</td>\n",
              "      <td>0</td>\n",
              "      <td>0</td>\n",
              "      <td>0</td>\n",
              "      <td>0.4939</td>\n",
              "      <td>5</td>\n",
              "    </tr>\n",
              "    <tr>\n",
              "      <th>27</th>\n",
              "      <td>Y'all broke it. How do we fix it? Any advice?</td>\n",
              "      <td>NaN</td>\n",
              "      <td>Y'all broke it. How do we fix it? Any advice?.</td>\n",
              "      <td>2021-01-28 20:42:46</td>\n",
              "      <td>1</td>\n",
              "      <td>140</td>\n",
              "      <td>l6tqpv</td>\n",
              "      <td>0</td>\n",
              "      <td>0</td>\n",
              "      <td>0</td>\n",
              "      <td>0</td>\n",
              "      <td>0</td>\n",
              "      <td>0</td>\n",
              "      <td>-0.4871</td>\n",
              "      <td>1</td>\n",
              "    </tr>\n",
              "    <tr>\n",
              "      <th>28</th>\n",
              "      <td>JUST PUT IN ANOTHER 30K IN NOK CALLS LET'S GO!...</td>\n",
              "      <td>NaN</td>\n",
              "      <td>JUST PUT IN ANOTHER 30K IN NOK CALLS LET'S GO!...</td>\n",
              "      <td>2021-01-28 20:40:07</td>\n",
              "      <td>1</td>\n",
              "      <td>146</td>\n",
              "      <td>l6tpdl</td>\n",
              "      <td>0</td>\n",
              "      <td>0</td>\n",
              "      <td>0</td>\n",
              "      <td>0</td>\n",
              "      <td>0</td>\n",
              "      <td>0</td>\n",
              "      <td>0.0000</td>\n",
              "      <td>1</td>\n",
              "    </tr>\n",
              "    <tr>\n",
              "      <th>29</th>\n",
              "      <td>It ain’t much, but I’m in! From Germany to the...</td>\n",
              "      <td>NaN</td>\n",
              "      <td>It ain’t much, but I’m in! From Germany to the...</td>\n",
              "      <td>2021-01-28 20:38:03</td>\n",
              "      <td>5</td>\n",
              "      <td>169</td>\n",
              "      <td>l6tocg</td>\n",
              "      <td>0</td>\n",
              "      <td>0</td>\n",
              "      <td>0</td>\n",
              "      <td>0</td>\n",
              "      <td>0</td>\n",
              "      <td>0</td>\n",
              "      <td>0.0000</td>\n",
              "      <td>5</td>\n",
              "    </tr>\n",
              "    <tr>\n",
              "      <th>30</th>\n",
              "      <td>Are we ready to attack the Citadel !!!!</td>\n",
              "      <td>https://youtu.be/BtjhgcAMYU0</td>\n",
              "      <td>Are we ready to attack the Citadel !!!!. https...</td>\n",
              "      <td>2021-01-28 20:37:36</td>\n",
              "      <td>5</td>\n",
              "      <td>32</td>\n",
              "      <td>l6to43</td>\n",
              "      <td>0</td>\n",
              "      <td>0</td>\n",
              "      <td>0</td>\n",
              "      <td>0</td>\n",
              "      <td>0</td>\n",
              "      <td>0</td>\n",
              "      <td>-0.4153</td>\n",
              "      <td>5</td>\n",
              "    </tr>\n",
              "    <tr>\n",
              "      <th>31</th>\n",
              "      <td>Another devastating hit, Europoors using Tradi...</td>\n",
              "      <td>NaN</td>\n",
              "      <td>Another devastating hit, Europoors using Tradi...</td>\n",
              "      <td>2021-01-28 20:32:25</td>\n",
              "      <td>1</td>\n",
              "      <td>467</td>\n",
              "      <td>l6tlew</td>\n",
              "      <td>0</td>\n",
              "      <td>0</td>\n",
              "      <td>0</td>\n",
              "      <td>0</td>\n",
              "      <td>0</td>\n",
              "      <td>0</td>\n",
              "      <td>-0.6900</td>\n",
              "      <td>1</td>\n",
              "    </tr>\n",
              "    <tr>\n",
              "      <th>32</th>\n",
              "      <td>$GME back up to ~350USD after hours</td>\n",
              "      <td>NaN</td>\n",
              "      <td>$GME back up to ~350USD after hours.</td>\n",
              "      <td>2021-01-28 20:31:19</td>\n",
              "      <td>1</td>\n",
              "      <td>131</td>\n",
              "      <td>l6tkvw</td>\n",
              "      <td>0</td>\n",
              "      <td>0</td>\n",
              "      <td>0</td>\n",
              "      <td>0</td>\n",
              "      <td>0</td>\n",
              "      <td>0</td>\n",
              "      <td>0.0000</td>\n",
              "      <td>1</td>\n",
              "    </tr>\n",
              "    <tr>\n",
              "      <th>33</th>\n",
              "      <td>I don’t have as much as the rest of you guys b...</td>\n",
              "      <td>NaN</td>\n",
              "      <td>I don’t have as much as the rest of you guys b...</td>\n",
              "      <td>2021-01-28 20:30:20</td>\n",
              "      <td>5</td>\n",
              "      <td>60</td>\n",
              "      <td>l6tke3</td>\n",
              "      <td>1</td>\n",
              "      <td>0</td>\n",
              "      <td>1</td>\n",
              "      <td>0</td>\n",
              "      <td>0</td>\n",
              "      <td>0</td>\n",
              "      <td>0.8118</td>\n",
              "      <td>5</td>\n",
              "    </tr>\n",
              "    <tr>\n",
              "      <th>34</th>\n",
              "      <td>They're trying to say this was all done by 'Na...</td>\n",
              "      <td>NaN</td>\n",
              "      <td>They're trying to say this was all done by 'Na...</td>\n",
              "      <td>2021-01-28 20:21:46</td>\n",
              "      <td>1</td>\n",
              "      <td>274</td>\n",
              "      <td>l6tfyh</td>\n",
              "      <td>1</td>\n",
              "      <td>0</td>\n",
              "      <td>0</td>\n",
              "      <td>0</td>\n",
              "      <td>0</td>\n",
              "      <td>0</td>\n",
              "      <td>0.0000</td>\n",
              "      <td>1</td>\n",
              "    </tr>\n",
              "    <tr>\n",
              "      <th>35</th>\n",
              "      <td>My brokerage wants to force close my GME calls</td>\n",
              "      <td>My brokerage called me and asked me to close m...</td>\n",
              "      <td>My brokerage wants to force close my GME calls...</td>\n",
              "      <td>2021-01-28 20:18:32</td>\n",
              "      <td>1</td>\n",
              "      <td>215</td>\n",
              "      <td>l6te9s</td>\n",
              "      <td>0</td>\n",
              "      <td>0</td>\n",
              "      <td>0</td>\n",
              "      <td>0</td>\n",
              "      <td>0</td>\n",
              "      <td>0</td>\n",
              "      <td>-0.2249</td>\n",
              "      <td>1</td>\n",
              "    </tr>\n",
              "    <tr>\n",
              "      <th>36</th>\n",
              "      <td>Guys i just want to say , i never been more pr...</td>\n",
              "      <td>NaN</td>\n",
              "      <td>Guys i just want to say , i never been more pr...</td>\n",
              "      <td>2021-01-28 20:17:02</td>\n",
              "      <td>5</td>\n",
              "      <td>189</td>\n",
              "      <td>l6tdfc</td>\n",
              "      <td>0</td>\n",
              "      <td>0</td>\n",
              "      <td>0</td>\n",
              "      <td>0</td>\n",
              "      <td>0</td>\n",
              "      <td>0</td>\n",
              "      <td>-0.3550</td>\n",
              "      <td>5</td>\n",
              "    </tr>\n",
              "    <tr>\n",
              "      <th>37</th>\n",
              "      <td>Iacta alea est</td>\n",
              "      <td>I was the lucky one in my family.  In 2008 I w...</td>\n",
              "      <td>Iacta alea est. I was the lucky one in my fami...</td>\n",
              "      <td>2021-01-28 20:16:28</td>\n",
              "      <td>1</td>\n",
              "      <td>30</td>\n",
              "      <td>l6td49</td>\n",
              "      <td>0</td>\n",
              "      <td>0</td>\n",
              "      <td>0</td>\n",
              "      <td>0</td>\n",
              "      <td>0</td>\n",
              "      <td>0</td>\n",
              "      <td>0.9665</td>\n",
              "      <td>1</td>\n",
              "    </tr>\n",
              "    <tr>\n",
              "      <th>38</th>\n",
              "      <td>Rocketship to Mars!</td>\n",
              "      <td># Hold/Buy until GME marketcap is higher than ...</td>\n",
              "      <td>Rocketship to Mars!. # Hold/Buy until GME mark...</td>\n",
              "      <td>2021-01-28 20:14:23</td>\n",
              "      <td>5</td>\n",
              "      <td>90</td>\n",
              "      <td>l6tbye</td>\n",
              "      <td>0</td>\n",
              "      <td>0</td>\n",
              "      <td>0</td>\n",
              "      <td>0</td>\n",
              "      <td>0</td>\n",
              "      <td>0</td>\n",
              "      <td>0.4885</td>\n",
              "      <td>5</td>\n",
              "    </tr>\n",
              "    <tr>\n",
              "      <th>39</th>\n",
              "      <td>There is an alternative to this system</td>\n",
              "      <td>How fucking stupid is it that retail gets no c...</td>\n",
              "      <td>There is an alternative to this system. How fu...</td>\n",
              "      <td>2021-01-28 20:12:07</td>\n",
              "      <td>4</td>\n",
              "      <td>94</td>\n",
              "      <td>l6tauf</td>\n",
              "      <td>1</td>\n",
              "      <td>0</td>\n",
              "      <td>0</td>\n",
              "      <td>0</td>\n",
              "      <td>0</td>\n",
              "      <td>0</td>\n",
              "      <td>-0.3391</td>\n",
              "      <td>4</td>\n",
              "    </tr>\n",
              "    <tr>\n",
              "      <th>40</th>\n",
              "      <td>Feeling like exercising, dunno may delete this...</td>\n",
              "      <td>NaN</td>\n",
              "      <td>Feeling like exercising, dunno may delete this...</td>\n",
              "      <td>2021-01-28 20:12:06</td>\n",
              "      <td>3</td>\n",
              "      <td>114</td>\n",
              "      <td>l6tatz</td>\n",
              "      <td>0</td>\n",
              "      <td>0</td>\n",
              "      <td>0</td>\n",
              "      <td>0</td>\n",
              "      <td>0</td>\n",
              "      <td>0</td>\n",
              "      <td>0.4588</td>\n",
              "      <td>3</td>\n",
              "    </tr>\n",
              "    <tr>\n",
              "      <th>41</th>\n",
              "      <td>wsb_churchill_speech.mp69</td>\n",
              "      <td>NaN</td>\n",
              "      <td>wsb_churchill_speech.mp69.</td>\n",
              "      <td>2021-01-28 20:08:41</td>\n",
              "      <td>5</td>\n",
              "      <td>15</td>\n",
              "      <td>l6t908</td>\n",
              "      <td>0</td>\n",
              "      <td>0</td>\n",
              "      <td>0</td>\n",
              "      <td>0</td>\n",
              "      <td>0</td>\n",
              "      <td>0</td>\n",
              "      <td>0.0000</td>\n",
              "      <td>5</td>\n",
              "    </tr>\n",
              "    <tr>\n",
              "      <th>42</th>\n",
              "      <td>GME Gang - 34 Consecutive Days on NYSE Thresho...</td>\n",
              "      <td>NaN</td>\n",
              "      <td>GME Gang - 34 Consecutive Days on NYSE Thresho...</td>\n",
              "      <td>2021-01-28 20:02:44</td>\n",
              "      <td>1</td>\n",
              "      <td>51</td>\n",
              "      <td>l6t5uo</td>\n",
              "      <td>0</td>\n",
              "      <td>0</td>\n",
              "      <td>0</td>\n",
              "      <td>0</td>\n",
              "      <td>0</td>\n",
              "      <td>0</td>\n",
              "      <td>0.3595</td>\n",
              "      <td>1</td>\n",
              "    </tr>\n",
              "    <tr>\n",
              "      <th>43</th>\n",
              "      <td>Woke up to an extra $25k. Think the app took a...</td>\n",
              "      <td>NaN</td>\n",
              "      <td>Woke up to an extra $25k. Think the app took a...</td>\n",
              "      <td>2021-01-28 20:01:22</td>\n",
              "      <td>1</td>\n",
              "      <td>52</td>\n",
              "      <td>l6t544</td>\n",
              "      <td>0</td>\n",
              "      <td>0</td>\n",
              "      <td>0</td>\n",
              "      <td>0</td>\n",
              "      <td>0</td>\n",
              "      <td>0</td>\n",
              "      <td>0.5267</td>\n",
              "      <td>1</td>\n",
              "    </tr>\n",
              "    <tr>\n",
              "      <th>44</th>\n",
              "      <td>Why is GME blank I have 2 screen shots 2am cal...</td>\n",
              "      <td>NaN</td>\n",
              "      <td>Why is GME blank I have 2 screen shots 2am cal...</td>\n",
              "      <td>2021-01-28 20:01:05</td>\n",
              "      <td>1</td>\n",
              "      <td>58</td>\n",
              "      <td>l6t4y7</td>\n",
              "      <td>1</td>\n",
              "      <td>0</td>\n",
              "      <td>1</td>\n",
              "      <td>0</td>\n",
              "      <td>0</td>\n",
              "      <td>0</td>\n",
              "      <td>-0.5859</td>\n",
              "      <td>1</td>\n",
              "    </tr>\n",
              "    <tr>\n",
              "      <th>45</th>\n",
              "      <td>THE DARK STOCK RISES.... 🚀🦇🚀</td>\n",
              "      <td>NaN</td>\n",
              "      <td>THE DARK STOCK RISES.... 🚀🦇🚀.</td>\n",
              "      <td>2021-01-28 19:58:14</td>\n",
              "      <td>3</td>\n",
              "      <td>71</td>\n",
              "      <td>l6t3a1</td>\n",
              "      <td>0</td>\n",
              "      <td>0</td>\n",
              "      <td>0</td>\n",
              "      <td>0</td>\n",
              "      <td>0</td>\n",
              "      <td>0</td>\n",
              "      <td>0.0000</td>\n",
              "      <td>3</td>\n",
              "    </tr>\n",
              "    <tr>\n",
              "      <th>46</th>\n",
              "      <td>The real price for GME is infinity, but at tha...</td>\n",
              "      <td>Lets imagine GME has gone to 50,000. The marke...</td>\n",
              "      <td>The real price for GME is infinity, but at tha...</td>\n",
              "      <td>2021-01-28 19:57:53</td>\n",
              "      <td>1</td>\n",
              "      <td>120</td>\n",
              "      <td>l6t34h</td>\n",
              "      <td>0</td>\n",
              "      <td>0</td>\n",
              "      <td>0</td>\n",
              "      <td>0</td>\n",
              "      <td>0</td>\n",
              "      <td>0</td>\n",
              "      <td>-0.9855</td>\n",
              "      <td>1</td>\n",
              "    </tr>\n",
              "    <tr>\n",
              "      <th>47</th>\n",
              "      <td>OG's......Prepare to show the world who we are</td>\n",
              "      <td>The time has come for us to show the world who...</td>\n",
              "      <td>OG's......Prepare to show the world who we are...</td>\n",
              "      <td>2021-01-28 19:54:44</td>\n",
              "      <td>5</td>\n",
              "      <td>98</td>\n",
              "      <td>l6t1jl</td>\n",
              "      <td>0</td>\n",
              "      <td>0</td>\n",
              "      <td>0</td>\n",
              "      <td>0</td>\n",
              "      <td>0</td>\n",
              "      <td>0</td>\n",
              "      <td>-0.3612</td>\n",
              "      <td>5</td>\n",
              "    </tr>\n",
              "    <tr>\n",
              "      <th>48</th>\n",
              "      <td>Here's a little background about one of the le...</td>\n",
              "      <td>To all who is supporting GME( movie land, the ...</td>\n",
              "      <td>Here's a little background about one of the le...</td>\n",
              "      <td>2021-01-28 19:52:43</td>\n",
              "      <td>3</td>\n",
              "      <td>117</td>\n",
              "      <td>l6t0ha</td>\n",
              "      <td>0</td>\n",
              "      <td>0</td>\n",
              "      <td>0</td>\n",
              "      <td>0</td>\n",
              "      <td>0</td>\n",
              "      <td>0</td>\n",
              "      <td>-0.7960</td>\n",
              "      <td>3</td>\n",
              "    </tr>\n",
              "    <tr>\n",
              "      <th>49</th>\n",
              "      <td>$GME</td>\n",
              "      <td>NaN</td>\n",
              "      <td>$GME.</td>\n",
              "      <td>2021-01-28 19:52:17</td>\n",
              "      <td>1</td>\n",
              "      <td>48</td>\n",
              "      <td>l6t08k</td>\n",
              "      <td>0</td>\n",
              "      <td>0</td>\n",
              "      <td>0</td>\n",
              "      <td>0</td>\n",
              "      <td>0</td>\n",
              "      <td>0</td>\n",
              "      <td>0.0000</td>\n",
              "      <td>1</td>\n",
              "    </tr>\n",
              "  </tbody>\n",
              "</table>\n",
              "</div>\n",
              "      <button class=\"colab-df-convert\" onclick=\"convertToInteractive('df-18950ec3-fac0-478a-a9f1-e652f42d7a06')\"\n",
              "              title=\"Convert this dataframe to an interactive table.\"\n",
              "              style=\"display:none;\">\n",
              "        \n",
              "  <svg xmlns=\"http://www.w3.org/2000/svg\" height=\"24px\"viewBox=\"0 0 24 24\"\n",
              "       width=\"24px\">\n",
              "    <path d=\"M0 0h24v24H0V0z\" fill=\"none\"/>\n",
              "    <path d=\"M18.56 5.44l.94 2.06.94-2.06 2.06-.94-2.06-.94-.94-2.06-.94 2.06-2.06.94zm-11 1L8.5 8.5l.94-2.06 2.06-.94-2.06-.94L8.5 2.5l-.94 2.06-2.06.94zm10 10l.94 2.06.94-2.06 2.06-.94-2.06-.94-.94-2.06-.94 2.06-2.06.94z\"/><path d=\"M17.41 7.96l-1.37-1.37c-.4-.4-.92-.59-1.43-.59-.52 0-1.04.2-1.43.59L10.3 9.45l-7.72 7.72c-.78.78-.78 2.05 0 2.83L4 21.41c.39.39.9.59 1.41.59.51 0 1.02-.2 1.41-.59l7.78-7.78 2.81-2.81c.8-.78.8-2.07 0-2.86zM5.41 20L4 18.59l7.72-7.72 1.47 1.35L5.41 20z\"/>\n",
              "  </svg>\n",
              "      </button>\n",
              "      \n",
              "  <style>\n",
              "    .colab-df-container {\n",
              "      display:flex;\n",
              "      flex-wrap:wrap;\n",
              "      gap: 12px;\n",
              "    }\n",
              "\n",
              "    .colab-df-convert {\n",
              "      background-color: #E8F0FE;\n",
              "      border: none;\n",
              "      border-radius: 50%;\n",
              "      cursor: pointer;\n",
              "      display: none;\n",
              "      fill: #1967D2;\n",
              "      height: 32px;\n",
              "      padding: 0 0 0 0;\n",
              "      width: 32px;\n",
              "    }\n",
              "\n",
              "    .colab-df-convert:hover {\n",
              "      background-color: #E2EBFA;\n",
              "      box-shadow: 0px 1px 2px rgba(60, 64, 67, 0.3), 0px 1px 3px 1px rgba(60, 64, 67, 0.15);\n",
              "      fill: #174EA6;\n",
              "    }\n",
              "\n",
              "    [theme=dark] .colab-df-convert {\n",
              "      background-color: #3B4455;\n",
              "      fill: #D2E3FC;\n",
              "    }\n",
              "\n",
              "    [theme=dark] .colab-df-convert:hover {\n",
              "      background-color: #434B5C;\n",
              "      box-shadow: 0px 1px 3px 1px rgba(0, 0, 0, 0.15);\n",
              "      filter: drop-shadow(0px 1px 2px rgba(0, 0, 0, 0.3));\n",
              "      fill: #FFFFFF;\n",
              "    }\n",
              "  </style>\n",
              "\n",
              "      <script>\n",
              "        const buttonEl =\n",
              "          document.querySelector('#df-18950ec3-fac0-478a-a9f1-e652f42d7a06 button.colab-df-convert');\n",
              "        buttonEl.style.display =\n",
              "          google.colab.kernel.accessAllowed ? 'block' : 'none';\n",
              "\n",
              "        async function convertToInteractive(key) {\n",
              "          const element = document.querySelector('#df-18950ec3-fac0-478a-a9f1-e652f42d7a06');\n",
              "          const dataTable =\n",
              "            await google.colab.kernel.invokeFunction('convertToInteractive',\n",
              "                                                     [key], {});\n",
              "          if (!dataTable) return;\n",
              "\n",
              "          const docLinkHtml = 'Like what you see? Visit the ' +\n",
              "            '<a target=\"_blank\" href=https://colab.research.google.com/notebooks/data_table.ipynb>data table notebook</a>'\n",
              "            + ' to learn more about interactive tables.';\n",
              "          element.innerHTML = '';\n",
              "          dataTable['output_type'] = 'display_data';\n",
              "          await google.colab.output.renderOutput(dataTable, element);\n",
              "          const docLink = document.createElement('div');\n",
              "          docLink.innerHTML = docLinkHtml;\n",
              "          element.appendChild(docLink);\n",
              "        }\n",
              "      </script>\n",
              "    </div>\n",
              "  </div>\n",
              "  "
            ]
          },
          "metadata": {},
          "execution_count": 15
        }
      ]
    },
    {
      "cell_type": "markdown",
      "source": [
        "## Part 5  VaderSentiment "
      ],
      "metadata": {
        "id": "t7Gcm_AXySCE"
      }
    },
    {
      "cell_type": "code",
      "source": [
        "#pip install vaderSentiment"
      ],
      "metadata": {
        "colab": {
          "base_uri": "https://localhost:8080/"
        },
        "id": "dwT7BwN53-Fn",
        "outputId": "861f1466-f803-43bf-dcfb-240e0949d8f9"
      },
      "execution_count": null,
      "outputs": [
        {
          "output_type": "stream",
          "name": "stdout",
          "text": [
            "Looking in indexes: https://pypi.org/simple, https://us-python.pkg.dev/colab-wheels/public/simple/\n",
            "Collecting vaderSentiment\n",
            "  Downloading vaderSentiment-3.3.2-py2.py3-none-any.whl (125 kB)\n",
            "\u001b[K     |████████████████████████████████| 125 kB 14.9 MB/s \n",
            "\u001b[?25hRequirement already satisfied: requests in /usr/local/lib/python3.7/dist-packages (from vaderSentiment) (2.23.0)\n",
            "Requirement already satisfied: idna<3,>=2.5 in /usr/local/lib/python3.7/dist-packages (from requests->vaderSentiment) (2.10)\n",
            "Requirement already satisfied: urllib3!=1.25.0,!=1.25.1,<1.26,>=1.21.1 in /usr/local/lib/python3.7/dist-packages (from requests->vaderSentiment) (1.24.3)\n",
            "Requirement already satisfied: certifi>=2017.4.17 in /usr/local/lib/python3.7/dist-packages (from requests->vaderSentiment) (2022.9.24)\n",
            "Requirement already satisfied: chardet<4,>=3.0.2 in /usr/local/lib/python3.7/dist-packages (from requests->vaderSentiment) (3.0.4)\n",
            "Installing collected packages: vaderSentiment\n",
            "Successfully installed vaderSentiment-3.3.2\n"
          ]
        }
      ]
    },
    {
      "cell_type": "code",
      "source": [
        "from vaderSentiment.vaderSentiment import SentimentIntensityAnalyzer"
      ],
      "metadata": {
        "id": "QwNQNSqp_yDg"
      },
      "execution_count": null,
      "outputs": []
    },
    {
      "cell_type": "code",
      "source": [
        "data_c['vader_score'] = data_c['total'].apply(lambda s: vader_sentiment.polarity_scores(s)['compound'])"
      ],
      "metadata": {
        "id": "xfp6IoJM_x9F"
      },
      "execution_count": null,
      "outputs": []
    },
    {
      "cell_type": "markdown",
      "source": [
        "Save results"
      ],
      "metadata": {
        "id": "UuI4Jshmy-uK"
      }
    },
    {
      "cell_type": "code",
      "source": [
        "data_c.to_csv('data_c.csv')"
      ],
      "metadata": {
        "id": "KC77Cz8HDA3T"
      },
      "execution_count": null,
      "outputs": []
    },
    {
      "cell_type": "code",
      "source": [
        "data_c.head(20)"
      ],
      "metadata": {
        "colab": {
          "base_uri": "https://localhost:8080/",
          "height": 1000
        },
        "id": "Gtcek6TCEaL4",
        "outputId": "4e1cc64d-b3e3-4de5-9f2e-d2e7944cf2ed"
      },
      "execution_count": null,
      "outputs": [
        {
          "output_type": "execute_result",
          "data": {
            "text/plain": [
              "    Unnamed: 0                                              title  \\\n",
              "0            0  It's not about the money, it's about sending a...   \n",
              "1            1  Math Professor Scott Steiner says the numbers ...   \n",
              "2            2                                    Exit the system   \n",
              "3            3  NEW SEC FILING FOR GME! CAN SOMEONE LESS RETAR...   \n",
              "4            4  Not to distract from GME, just thought our AMC...   \n",
              "5            5                                WE BREAKING THROUGH   \n",
              "6            6        SHORT STOCK DOESN'T HAVE AN EXPIRATION DATE   \n",
              "7            7                                 THIS IS THE MOMENT   \n",
              "8            8  Currently Holding AMC and NOK - Is it retarded...   \n",
              "9            9  I have nothing to say but BRUH I am speechless...   \n",
              "10          10  We need to keep this movement going, we all ca...   \n",
              "11          11                 GME Premarket 🍁 Musk approved 🎮🛑💎✋   \n",
              "12          12  Once you're done with GME - $AG and $SLV, the ...   \n",
              "13          13  $GME price has nothing to do with fundamentals...   \n",
              "14          14                             I Love You Retards!!!!   \n",
              "15          15                       420 wasn’t a meme. GME 🚀 🚀 🚀   \n",
              "16          16                        To The Mass Relays & Beyond   \n",
              "17          17  I come back to you now... At the turn of the t...   \n",
              "18          18   9 words brought to you by the fuckers at the SEC   \n",
              "19          19       Daily Discussion Thread for January 28, 2021   \n",
              "\n",
              "                                                 body  \\\n",
              "0                                                 NaN   \n",
              "1                                                 NaN   \n",
              "2   The CEO of NASDAQ pushed to halt trading “to g...   \n",
              "3                                                 NaN   \n",
              "4                                                 NaN   \n",
              "5                                                 NaN   \n",
              "6   Hedgefund whales are spreading disinfo saying ...   \n",
              "7   Life isn't fair. My mother always told me that...   \n",
              "8                                                 NaN   \n",
              "9                                                 NaN   \n",
              "10   I believe right now is one of those rare oppo...   \n",
              "11                                                NaN   \n",
              "12  You guys are champs. GME... who would have tho...   \n",
              "13  Firstly, all of you diamond hands and smooth-b...   \n",
              "14                                                NaN   \n",
              "15                                                NaN   \n",
              "16                                                NaN   \n",
              "17                                                NaN   \n",
              "18                                                NaN   \n",
              "19  Your daily trading discussion thread. Please k...   \n",
              "\n",
              "                                                total            timestamp  \\\n",
              "0   It's not about the money, it's about sending a...  2021-01-28 21:37:41   \n",
              "1   Math Professor Scott Steiner says the numbers ...  2021-01-28 21:32:10   \n",
              "2   Exit the system. The CEO of NASDAQ pushed to h...  2021-01-28 21:30:35   \n",
              "3   NEW SEC FILING FOR GME! CAN SOMEONE LESS RETAR...  2021-01-28 21:28:57   \n",
              "4   Not to distract from GME, just thought our AMC...  2021-01-28 21:26:56   \n",
              "5                               WE BREAKING THROUGH.   2021-01-28 21:26:30   \n",
              "6   SHORT STOCK DOESN'T HAVE AN EXPIRATION DATE. H...  2021-01-28 21:26:27   \n",
              "7   THIS IS THE MOMENT. Life isn't fair. My mother...  2021-01-28 21:19:31   \n",
              "8   Currently Holding AMC and NOK - Is it retarded...  2021-01-28 21:19:16   \n",
              "9   I have nothing to say but BRUH I am speechless...  2021-01-28 21:18:37   \n",
              "10  We need to keep this movement going, we all ca...  2021-01-28 21:18:25   \n",
              "11               GME Premarket 🍁 Musk approved 🎮🛑💎✋.   2021-01-28 21:17:28   \n",
              "12  Once you're done with GME - $AG and $SLV, the ...  2021-01-28 21:17:10   \n",
              "13  $GME price has nothing to do with fundamentals...  2021-01-28 21:15:58   \n",
              "14                           I Love You Retards!!!!.   2021-01-28 21:14:44   \n",
              "15                     420 wasn’t a meme. GME 🚀 🚀 🚀.   2021-01-28 21:14:43   \n",
              "16                      To The Mass Relays & Beyond.   2021-01-28 21:09:32   \n",
              "17  I come back to you now... At the turn of the t...  2021-01-28 21:06:53   \n",
              "18  9 words brought to you by the fuckers at the S...  2021-01-28 21:05:01   \n",
              "19  Daily Discussion Thread for January 28, 2021. ...  2021-01-28 21:00:15   \n",
              "\n",
              "    sentiment  comms_num      id  toxic  severe_toxic  obscene  threat  \\\n",
              "0           1          6  l6ulcx      0             0        0       0   \n",
              "1           2         23  l6uibd      0             0        0       0   \n",
              "2           1         47  l6uhhn      0             0        0       0   \n",
              "3           5         74  l6ugk6      0             0        0       0   \n",
              "4           3        156  l6ufgy      0             0        0       0   \n",
              "5           1         84  l6uf7d      0             0        0       0   \n",
              "6           2         53  l6uf6d      0             0        0       0   \n",
              "7           5        178  l6ub9l      0             0        0       0   \n",
              "8           3        161  l6ub4i      0             0        0       0   \n",
              "9           1         27  l6uas9      0             0        0       1   \n",
              "10          5         70  l6uao1      0             0        0       0   \n",
              "11          5         97  l6ua2q      0             0        0       0   \n",
              "12          5         16  l6u9wu      1             0        0       0   \n",
              "13          1         61  l6u96y      0             0        0       0   \n",
              "14          5         32  l6u8hc      1             0        0       0   \n",
              "15          1         49  l6u8gs      0             0        0       0   \n",
              "16          5         14  l6u5j2      0             0        0       0   \n",
              "17          5         33  l6u40m      1             0        0       0   \n",
              "18          5         41  l6u2x7      1             0        1       0   \n",
              "19          4       5942  l6u011      0             0        0       0   \n",
              "\n",
              "    insult  identity_hate  vader_score  \n",
              "0        0              0       0.0000  \n",
              "1        0              0      -0.7034  \n",
              "2        1              0      -0.7644  \n",
              "3        0              0      -0.3397  \n",
              "4        0              0       0.2235  \n",
              "5        0              0       0.0000  \n",
              "6        0              0       0.8663  \n",
              "7        0              0      -0.9949  \n",
              "8        1              0      -0.5719  \n",
              "9        0              0       0.8625  \n",
              "10       0              0       0.8513  \n",
              "11       0              0       0.5859  \n",
              "12       0              0       0.9724  \n",
              "13       0              0       0.9951  \n",
              "14       0              0       0.7482  \n",
              "15       0              0       0.0000  \n",
              "16       1              0       0.0000  \n",
              "17       0              0       0.0000  \n",
              "18       1              0      -0.5994  \n",
              "19       0              0       0.9961  "
            ],
            "text/html": [
              "\n",
              "  <div id=\"df-d7687930-1bbf-4a49-8245-e1a43033f2f4\">\n",
              "    <div class=\"colab-df-container\">\n",
              "      <div>\n",
              "<style scoped>\n",
              "    .dataframe tbody tr th:only-of-type {\n",
              "        vertical-align: middle;\n",
              "    }\n",
              "\n",
              "    .dataframe tbody tr th {\n",
              "        vertical-align: top;\n",
              "    }\n",
              "\n",
              "    .dataframe thead th {\n",
              "        text-align: right;\n",
              "    }\n",
              "</style>\n",
              "<table border=\"1\" class=\"dataframe\">\n",
              "  <thead>\n",
              "    <tr style=\"text-align: right;\">\n",
              "      <th></th>\n",
              "      <th>Unnamed: 0</th>\n",
              "      <th>title</th>\n",
              "      <th>body</th>\n",
              "      <th>total</th>\n",
              "      <th>timestamp</th>\n",
              "      <th>sentiment</th>\n",
              "      <th>comms_num</th>\n",
              "      <th>id</th>\n",
              "      <th>toxic</th>\n",
              "      <th>severe_toxic</th>\n",
              "      <th>obscene</th>\n",
              "      <th>threat</th>\n",
              "      <th>insult</th>\n",
              "      <th>identity_hate</th>\n",
              "      <th>vader_score</th>\n",
              "    </tr>\n",
              "  </thead>\n",
              "  <tbody>\n",
              "    <tr>\n",
              "      <th>0</th>\n",
              "      <td>0</td>\n",
              "      <td>It's not about the money, it's about sending a...</td>\n",
              "      <td>NaN</td>\n",
              "      <td>It's not about the money, it's about sending a...</td>\n",
              "      <td>2021-01-28 21:37:41</td>\n",
              "      <td>1</td>\n",
              "      <td>6</td>\n",
              "      <td>l6ulcx</td>\n",
              "      <td>0</td>\n",
              "      <td>0</td>\n",
              "      <td>0</td>\n",
              "      <td>0</td>\n",
              "      <td>0</td>\n",
              "      <td>0</td>\n",
              "      <td>0.0000</td>\n",
              "    </tr>\n",
              "    <tr>\n",
              "      <th>1</th>\n",
              "      <td>1</td>\n",
              "      <td>Math Professor Scott Steiner says the numbers ...</td>\n",
              "      <td>NaN</td>\n",
              "      <td>Math Professor Scott Steiner says the numbers ...</td>\n",
              "      <td>2021-01-28 21:32:10</td>\n",
              "      <td>2</td>\n",
              "      <td>23</td>\n",
              "      <td>l6uibd</td>\n",
              "      <td>0</td>\n",
              "      <td>0</td>\n",
              "      <td>0</td>\n",
              "      <td>0</td>\n",
              "      <td>0</td>\n",
              "      <td>0</td>\n",
              "      <td>-0.7034</td>\n",
              "    </tr>\n",
              "    <tr>\n",
              "      <th>2</th>\n",
              "      <td>2</td>\n",
              "      <td>Exit the system</td>\n",
              "      <td>The CEO of NASDAQ pushed to halt trading “to g...</td>\n",
              "      <td>Exit the system. The CEO of NASDAQ pushed to h...</td>\n",
              "      <td>2021-01-28 21:30:35</td>\n",
              "      <td>1</td>\n",
              "      <td>47</td>\n",
              "      <td>l6uhhn</td>\n",
              "      <td>0</td>\n",
              "      <td>0</td>\n",
              "      <td>0</td>\n",
              "      <td>0</td>\n",
              "      <td>1</td>\n",
              "      <td>0</td>\n",
              "      <td>-0.7644</td>\n",
              "    </tr>\n",
              "    <tr>\n",
              "      <th>3</th>\n",
              "      <td>3</td>\n",
              "      <td>NEW SEC FILING FOR GME! CAN SOMEONE LESS RETAR...</td>\n",
              "      <td>NaN</td>\n",
              "      <td>NEW SEC FILING FOR GME! CAN SOMEONE LESS RETAR...</td>\n",
              "      <td>2021-01-28 21:28:57</td>\n",
              "      <td>5</td>\n",
              "      <td>74</td>\n",
              "      <td>l6ugk6</td>\n",
              "      <td>0</td>\n",
              "      <td>0</td>\n",
              "      <td>0</td>\n",
              "      <td>0</td>\n",
              "      <td>0</td>\n",
              "      <td>0</td>\n",
              "      <td>-0.3397</td>\n",
              "    </tr>\n",
              "    <tr>\n",
              "      <th>4</th>\n",
              "      <td>4</td>\n",
              "      <td>Not to distract from GME, just thought our AMC...</td>\n",
              "      <td>NaN</td>\n",
              "      <td>Not to distract from GME, just thought our AMC...</td>\n",
              "      <td>2021-01-28 21:26:56</td>\n",
              "      <td>3</td>\n",
              "      <td>156</td>\n",
              "      <td>l6ufgy</td>\n",
              "      <td>0</td>\n",
              "      <td>0</td>\n",
              "      <td>0</td>\n",
              "      <td>0</td>\n",
              "      <td>0</td>\n",
              "      <td>0</td>\n",
              "      <td>0.2235</td>\n",
              "    </tr>\n",
              "    <tr>\n",
              "      <th>5</th>\n",
              "      <td>5</td>\n",
              "      <td>WE BREAKING THROUGH</td>\n",
              "      <td>NaN</td>\n",
              "      <td>WE BREAKING THROUGH.</td>\n",
              "      <td>2021-01-28 21:26:30</td>\n",
              "      <td>1</td>\n",
              "      <td>84</td>\n",
              "      <td>l6uf7d</td>\n",
              "      <td>0</td>\n",
              "      <td>0</td>\n",
              "      <td>0</td>\n",
              "      <td>0</td>\n",
              "      <td>0</td>\n",
              "      <td>0</td>\n",
              "      <td>0.0000</td>\n",
              "    </tr>\n",
              "    <tr>\n",
              "      <th>6</th>\n",
              "      <td>6</td>\n",
              "      <td>SHORT STOCK DOESN'T HAVE AN EXPIRATION DATE</td>\n",
              "      <td>Hedgefund whales are spreading disinfo saying ...</td>\n",
              "      <td>SHORT STOCK DOESN'T HAVE AN EXPIRATION DATE. H...</td>\n",
              "      <td>2021-01-28 21:26:27</td>\n",
              "      <td>2</td>\n",
              "      <td>53</td>\n",
              "      <td>l6uf6d</td>\n",
              "      <td>0</td>\n",
              "      <td>0</td>\n",
              "      <td>0</td>\n",
              "      <td>0</td>\n",
              "      <td>0</td>\n",
              "      <td>0</td>\n",
              "      <td>0.8663</td>\n",
              "    </tr>\n",
              "    <tr>\n",
              "      <th>7</th>\n",
              "      <td>7</td>\n",
              "      <td>THIS IS THE MOMENT</td>\n",
              "      <td>Life isn't fair. My mother always told me that...</td>\n",
              "      <td>THIS IS THE MOMENT. Life isn't fair. My mother...</td>\n",
              "      <td>2021-01-28 21:19:31</td>\n",
              "      <td>5</td>\n",
              "      <td>178</td>\n",
              "      <td>l6ub9l</td>\n",
              "      <td>0</td>\n",
              "      <td>0</td>\n",
              "      <td>0</td>\n",
              "      <td>0</td>\n",
              "      <td>0</td>\n",
              "      <td>0</td>\n",
              "      <td>-0.9949</td>\n",
              "    </tr>\n",
              "    <tr>\n",
              "      <th>8</th>\n",
              "      <td>8</td>\n",
              "      <td>Currently Holding AMC and NOK - Is it retarded...</td>\n",
              "      <td>NaN</td>\n",
              "      <td>Currently Holding AMC and NOK - Is it retarded...</td>\n",
              "      <td>2021-01-28 21:19:16</td>\n",
              "      <td>3</td>\n",
              "      <td>161</td>\n",
              "      <td>l6ub4i</td>\n",
              "      <td>0</td>\n",
              "      <td>0</td>\n",
              "      <td>0</td>\n",
              "      <td>0</td>\n",
              "      <td>1</td>\n",
              "      <td>0</td>\n",
              "      <td>-0.5719</td>\n",
              "    </tr>\n",
              "    <tr>\n",
              "      <th>9</th>\n",
              "      <td>9</td>\n",
              "      <td>I have nothing to say but BRUH I am speechless...</td>\n",
              "      <td>NaN</td>\n",
              "      <td>I have nothing to say but BRUH I am speechless...</td>\n",
              "      <td>2021-01-28 21:18:37</td>\n",
              "      <td>1</td>\n",
              "      <td>27</td>\n",
              "      <td>l6uas9</td>\n",
              "      <td>0</td>\n",
              "      <td>0</td>\n",
              "      <td>0</td>\n",
              "      <td>1</td>\n",
              "      <td>0</td>\n",
              "      <td>0</td>\n",
              "      <td>0.8625</td>\n",
              "    </tr>\n",
              "    <tr>\n",
              "      <th>10</th>\n",
              "      <td>10</td>\n",
              "      <td>We need to keep this movement going, we all ca...</td>\n",
              "      <td>I believe right now is one of those rare oppo...</td>\n",
              "      <td>We need to keep this movement going, we all ca...</td>\n",
              "      <td>2021-01-28 21:18:25</td>\n",
              "      <td>5</td>\n",
              "      <td>70</td>\n",
              "      <td>l6uao1</td>\n",
              "      <td>0</td>\n",
              "      <td>0</td>\n",
              "      <td>0</td>\n",
              "      <td>0</td>\n",
              "      <td>0</td>\n",
              "      <td>0</td>\n",
              "      <td>0.8513</td>\n",
              "    </tr>\n",
              "    <tr>\n",
              "      <th>11</th>\n",
              "      <td>11</td>\n",
              "      <td>GME Premarket 🍁 Musk approved 🎮🛑💎✋</td>\n",
              "      <td>NaN</td>\n",
              "      <td>GME Premarket 🍁 Musk approved 🎮🛑💎✋.</td>\n",
              "      <td>2021-01-28 21:17:28</td>\n",
              "      <td>5</td>\n",
              "      <td>97</td>\n",
              "      <td>l6ua2q</td>\n",
              "      <td>0</td>\n",
              "      <td>0</td>\n",
              "      <td>0</td>\n",
              "      <td>0</td>\n",
              "      <td>0</td>\n",
              "      <td>0</td>\n",
              "      <td>0.5859</td>\n",
              "    </tr>\n",
              "    <tr>\n",
              "      <th>12</th>\n",
              "      <td>12</td>\n",
              "      <td>Once you're done with GME - $AG and $SLV, the ...</td>\n",
              "      <td>You guys are champs. GME... who would have tho...</td>\n",
              "      <td>Once you're done with GME - $AG and $SLV, the ...</td>\n",
              "      <td>2021-01-28 21:17:10</td>\n",
              "      <td>5</td>\n",
              "      <td>16</td>\n",
              "      <td>l6u9wu</td>\n",
              "      <td>1</td>\n",
              "      <td>0</td>\n",
              "      <td>0</td>\n",
              "      <td>0</td>\n",
              "      <td>0</td>\n",
              "      <td>0</td>\n",
              "      <td>0.9724</td>\n",
              "    </tr>\n",
              "    <tr>\n",
              "      <th>13</th>\n",
              "      <td>13</td>\n",
              "      <td>$GME price has nothing to do with fundamentals...</td>\n",
              "      <td>Firstly, all of you diamond hands and smooth-b...</td>\n",
              "      <td>$GME price has nothing to do with fundamentals...</td>\n",
              "      <td>2021-01-28 21:15:58</td>\n",
              "      <td>1</td>\n",
              "      <td>61</td>\n",
              "      <td>l6u96y</td>\n",
              "      <td>0</td>\n",
              "      <td>0</td>\n",
              "      <td>0</td>\n",
              "      <td>0</td>\n",
              "      <td>0</td>\n",
              "      <td>0</td>\n",
              "      <td>0.9951</td>\n",
              "    </tr>\n",
              "    <tr>\n",
              "      <th>14</th>\n",
              "      <td>14</td>\n",
              "      <td>I Love You Retards!!!!</td>\n",
              "      <td>NaN</td>\n",
              "      <td>I Love You Retards!!!!.</td>\n",
              "      <td>2021-01-28 21:14:44</td>\n",
              "      <td>5</td>\n",
              "      <td>32</td>\n",
              "      <td>l6u8hc</td>\n",
              "      <td>1</td>\n",
              "      <td>0</td>\n",
              "      <td>0</td>\n",
              "      <td>0</td>\n",
              "      <td>0</td>\n",
              "      <td>0</td>\n",
              "      <td>0.7482</td>\n",
              "    </tr>\n",
              "    <tr>\n",
              "      <th>15</th>\n",
              "      <td>15</td>\n",
              "      <td>420 wasn’t a meme. GME 🚀 🚀 🚀</td>\n",
              "      <td>NaN</td>\n",
              "      <td>420 wasn’t a meme. GME 🚀 🚀 🚀.</td>\n",
              "      <td>2021-01-28 21:14:43</td>\n",
              "      <td>1</td>\n",
              "      <td>49</td>\n",
              "      <td>l6u8gs</td>\n",
              "      <td>0</td>\n",
              "      <td>0</td>\n",
              "      <td>0</td>\n",
              "      <td>0</td>\n",
              "      <td>0</td>\n",
              "      <td>0</td>\n",
              "      <td>0.0000</td>\n",
              "    </tr>\n",
              "    <tr>\n",
              "      <th>16</th>\n",
              "      <td>16</td>\n",
              "      <td>To The Mass Relays &amp; Beyond</td>\n",
              "      <td>NaN</td>\n",
              "      <td>To The Mass Relays &amp; Beyond.</td>\n",
              "      <td>2021-01-28 21:09:32</td>\n",
              "      <td>5</td>\n",
              "      <td>14</td>\n",
              "      <td>l6u5j2</td>\n",
              "      <td>0</td>\n",
              "      <td>0</td>\n",
              "      <td>0</td>\n",
              "      <td>0</td>\n",
              "      <td>1</td>\n",
              "      <td>0</td>\n",
              "      <td>0.0000</td>\n",
              "    </tr>\n",
              "    <tr>\n",
              "      <th>17</th>\n",
              "      <td>17</td>\n",
              "      <td>I come back to you now... At the turn of the t...</td>\n",
              "      <td>NaN</td>\n",
              "      <td>I come back to you now... At the turn of the t...</td>\n",
              "      <td>2021-01-28 21:06:53</td>\n",
              "      <td>5</td>\n",
              "      <td>33</td>\n",
              "      <td>l6u40m</td>\n",
              "      <td>1</td>\n",
              "      <td>0</td>\n",
              "      <td>0</td>\n",
              "      <td>0</td>\n",
              "      <td>0</td>\n",
              "      <td>0</td>\n",
              "      <td>0.0000</td>\n",
              "    </tr>\n",
              "    <tr>\n",
              "      <th>18</th>\n",
              "      <td>18</td>\n",
              "      <td>9 words brought to you by the fuckers at the SEC</td>\n",
              "      <td>NaN</td>\n",
              "      <td>9 words brought to you by the fuckers at the S...</td>\n",
              "      <td>2021-01-28 21:05:01</td>\n",
              "      <td>5</td>\n",
              "      <td>41</td>\n",
              "      <td>l6u2x7</td>\n",
              "      <td>1</td>\n",
              "      <td>0</td>\n",
              "      <td>1</td>\n",
              "      <td>0</td>\n",
              "      <td>1</td>\n",
              "      <td>0</td>\n",
              "      <td>-0.5994</td>\n",
              "    </tr>\n",
              "    <tr>\n",
              "      <th>19</th>\n",
              "      <td>19</td>\n",
              "      <td>Daily Discussion Thread for January 28, 2021</td>\n",
              "      <td>Your daily trading discussion thread. Please k...</td>\n",
              "      <td>Daily Discussion Thread for January 28, 2021. ...</td>\n",
              "      <td>2021-01-28 21:00:15</td>\n",
              "      <td>4</td>\n",
              "      <td>5942</td>\n",
              "      <td>l6u011</td>\n",
              "      <td>0</td>\n",
              "      <td>0</td>\n",
              "      <td>0</td>\n",
              "      <td>0</td>\n",
              "      <td>0</td>\n",
              "      <td>0</td>\n",
              "      <td>0.9961</td>\n",
              "    </tr>\n",
              "  </tbody>\n",
              "</table>\n",
              "</div>\n",
              "      <button class=\"colab-df-convert\" onclick=\"convertToInteractive('df-d7687930-1bbf-4a49-8245-e1a43033f2f4')\"\n",
              "              title=\"Convert this dataframe to an interactive table.\"\n",
              "              style=\"display:none;\">\n",
              "        \n",
              "  <svg xmlns=\"http://www.w3.org/2000/svg\" height=\"24px\"viewBox=\"0 0 24 24\"\n",
              "       width=\"24px\">\n",
              "    <path d=\"M0 0h24v24H0V0z\" fill=\"none\"/>\n",
              "    <path d=\"M18.56 5.44l.94 2.06.94-2.06 2.06-.94-2.06-.94-.94-2.06-.94 2.06-2.06.94zm-11 1L8.5 8.5l.94-2.06 2.06-.94-2.06-.94L8.5 2.5l-.94 2.06-2.06.94zm10 10l.94 2.06.94-2.06 2.06-.94-2.06-.94-.94-2.06-.94 2.06-2.06.94z\"/><path d=\"M17.41 7.96l-1.37-1.37c-.4-.4-.92-.59-1.43-.59-.52 0-1.04.2-1.43.59L10.3 9.45l-7.72 7.72c-.78.78-.78 2.05 0 2.83L4 21.41c.39.39.9.59 1.41.59.51 0 1.02-.2 1.41-.59l7.78-7.78 2.81-2.81c.8-.78.8-2.07 0-2.86zM5.41 20L4 18.59l7.72-7.72 1.47 1.35L5.41 20z\"/>\n",
              "  </svg>\n",
              "      </button>\n",
              "      \n",
              "  <style>\n",
              "    .colab-df-container {\n",
              "      display:flex;\n",
              "      flex-wrap:wrap;\n",
              "      gap: 12px;\n",
              "    }\n",
              "\n",
              "    .colab-df-convert {\n",
              "      background-color: #E8F0FE;\n",
              "      border: none;\n",
              "      border-radius: 50%;\n",
              "      cursor: pointer;\n",
              "      display: none;\n",
              "      fill: #1967D2;\n",
              "      height: 32px;\n",
              "      padding: 0 0 0 0;\n",
              "      width: 32px;\n",
              "    }\n",
              "\n",
              "    .colab-df-convert:hover {\n",
              "      background-color: #E2EBFA;\n",
              "      box-shadow: 0px 1px 2px rgba(60, 64, 67, 0.3), 0px 1px 3px 1px rgba(60, 64, 67, 0.15);\n",
              "      fill: #174EA6;\n",
              "    }\n",
              "\n",
              "    [theme=dark] .colab-df-convert {\n",
              "      background-color: #3B4455;\n",
              "      fill: #D2E3FC;\n",
              "    }\n",
              "\n",
              "    [theme=dark] .colab-df-convert:hover {\n",
              "      background-color: #434B5C;\n",
              "      box-shadow: 0px 1px 3px 1px rgba(0, 0, 0, 0.15);\n",
              "      filter: drop-shadow(0px 1px 2px rgba(0, 0, 0, 0.3));\n",
              "      fill: #FFFFFF;\n",
              "    }\n",
              "  </style>\n",
              "\n",
              "      <script>\n",
              "        const buttonEl =\n",
              "          document.querySelector('#df-d7687930-1bbf-4a49-8245-e1a43033f2f4 button.colab-df-convert');\n",
              "        buttonEl.style.display =\n",
              "          google.colab.kernel.accessAllowed ? 'block' : 'none';\n",
              "\n",
              "        async function convertToInteractive(key) {\n",
              "          const element = document.querySelector('#df-d7687930-1bbf-4a49-8245-e1a43033f2f4');\n",
              "          const dataTable =\n",
              "            await google.colab.kernel.invokeFunction('convertToInteractive',\n",
              "                                                     [key], {});\n",
              "          if (!dataTable) return;\n",
              "\n",
              "          const docLinkHtml = 'Like what you see? Visit the ' +\n",
              "            '<a target=\"_blank\" href=https://colab.research.google.com/notebooks/data_table.ipynb>data table notebook</a>'\n",
              "            + ' to learn more about interactive tables.';\n",
              "          element.innerHTML = '';\n",
              "          dataTable['output_type'] = 'display_data';\n",
              "          await google.colab.output.renderOutput(dataTable, element);\n",
              "          const docLink = document.createElement('div');\n",
              "          docLink.innerHTML = docLinkHtml;\n",
              "          element.appendChild(docLink);\n",
              "        }\n",
              "      </script>\n",
              "    </div>\n",
              "  </div>\n",
              "  "
            ]
          },
          "metadata": {},
          "execution_count": 8
        }
      ]
    },
    {
      "cell_type": "code",
      "source": [
        "data_c['pred_VADER'] = data_c['vader_score'].apply(lambda x: 1 if x >=0 else 0)"
      ],
      "metadata": {
        "id": "p_FOgJsK_x6W"
      },
      "execution_count": null,
      "outputs": []
    },
    {
      "cell_type": "markdown",
      "source": [
        "## Reload Data, now it has Bert pretrained sentiment score, Vader score and toxicity labels   "
      ],
      "metadata": {
        "id": "37i0-mAzzX-9"
      }
    },
    {
      "cell_type": "code",
      "source": [
        "data_wsb2 = data_wsb2.iloc[:,2:]\n",
        "# deal with timestamp data\n",
        "k = []\n",
        "for i in data_wsb2['timestamp']:\n",
        "    j = i[:10]\n",
        "    k.append(j)\n",
        "    \n",
        "kk=[]\n",
        "for ii in data_wsb2['timestamp']:\n",
        "    jj = ii[-8:]\n",
        "    kk.append(jj)\n",
        "\n",
        "data_wsb2['day'] = k\n",
        "data_wsb2['time'] = kk\n",
        "\n",
        "\n",
        "\n",
        "diamond_hand = ['Diamond Hands', 'Diamond hands', 'diamond hand','diamondhands','Diamondhands'] # ,'diamond','Diamond' ? should i put them in?\n",
        "paper_hand = ['Paper Hands', 'Paper hands', 'paper hands','paperhands','Paperhands']\n",
        "yolo = ['YOLO', 'yolo', 'Yolo']\n",
        "\n",
        "def id_words(comment, keys):\n",
        "    flag = 0 \n",
        "    for key in keys:\n",
        "        if comment.find(key) != -1:\n",
        "            flag = 1\n",
        "    return flag\n",
        "\n",
        "\n",
        "data_wsb2['diamond_label'] = data_wsb2['total'].apply(lambda x: id_words(x, diamond_hand))\n",
        "data_wsb2['yolo_label'] = data_wsb2['total'].apply(lambda x: id_words(x, yolo))\n",
        "data_wsb2['paper_label'] =  data_wsb2['total'].apply(lambda x: id_words(x, paper_hand))"
      ],
      "metadata": {
        "id": "E69QwzHrEpV7"
      },
      "execution_count": null,
      "outputs": []
    },
    {
      "cell_type": "code",
      "source": [
        "data_wsb2.head()"
      ],
      "metadata": {
        "colab": {
          "base_uri": "https://localhost:8080/",
          "height": 739
        },
        "id": "Low32EvWE3zS",
        "outputId": "cacacba8-2e26-4b04-914b-5d3046084d36"
      },
      "execution_count": null,
      "outputs": [
        {
          "output_type": "execute_result",
          "data": {
            "text/plain": [
              "                                               title  \\\n",
              "0  It's not about the money, it's about sending a...   \n",
              "1  Math Professor Scott Steiner says the numbers ...   \n",
              "2                                    Exit the system   \n",
              "3  NEW SEC FILING FOR GME! CAN SOMEONE LESS RETAR...   \n",
              "4  Not to distract from GME, just thought our AMC...   \n",
              "\n",
              "                                                body  \\\n",
              "0                                                NaN   \n",
              "1                                                NaN   \n",
              "2  The CEO of NASDAQ pushed to halt trading “to g...   \n",
              "3                                                NaN   \n",
              "4                                                NaN   \n",
              "\n",
              "                                               total            timestamp  \\\n",
              "0  It's not about the money, it's about sending a...  2021-01-28 21:37:41   \n",
              "1  Math Professor Scott Steiner says the numbers ...  2021-01-28 21:32:10   \n",
              "2  Exit the system. The CEO of NASDAQ pushed to h...  2021-01-28 21:30:35   \n",
              "3  NEW SEC FILING FOR GME! CAN SOMEONE LESS RETAR...  2021-01-28 21:28:57   \n",
              "4  Not to distract from GME, just thought our AMC...  2021-01-28 21:26:56   \n",
              "\n",
              "   sentiment  comms_num      id  toxic  severe_toxic  obscene  threat  insult  \\\n",
              "0          1          6  l6ulcx      0             0        0       0       0   \n",
              "1          2         23  l6uibd      0             0        0       0       0   \n",
              "2          1         47  l6uhhn      0             0        0       0       1   \n",
              "3          5         74  l6ugk6      0             0        0       0       0   \n",
              "4          3        156  l6ufgy      0             0        0       0       0   \n",
              "\n",
              "   identity_hate  vader_score  sentiment_total  diamond_label  yolo_label  \\\n",
              "0              0       0.0000                1              0           0   \n",
              "1              0      -0.7034                2              0           0   \n",
              "2              0      -0.7644                1              0           0   \n",
              "3              0      -0.3397                5              0           0   \n",
              "4              0       0.2235                3              0           0   \n",
              "\n",
              "   paper_label         day      time  \n",
              "0            0  2021-01-28  21:37:41  \n",
              "1            0  2021-01-28  21:32:10  \n",
              "2            0  2021-01-28  21:30:35  \n",
              "3            0  2021-01-28  21:28:57  \n",
              "4            0  2021-01-28  21:26:56  "
            ],
            "text/html": [
              "\n",
              "  <div id=\"df-7529311b-9d75-44b9-9495-a7d3e1f07d28\">\n",
              "    <div class=\"colab-df-container\">\n",
              "      <div>\n",
              "<style scoped>\n",
              "    .dataframe tbody tr th:only-of-type {\n",
              "        vertical-align: middle;\n",
              "    }\n",
              "\n",
              "    .dataframe tbody tr th {\n",
              "        vertical-align: top;\n",
              "    }\n",
              "\n",
              "    .dataframe thead th {\n",
              "        text-align: right;\n",
              "    }\n",
              "</style>\n",
              "<table border=\"1\" class=\"dataframe\">\n",
              "  <thead>\n",
              "    <tr style=\"text-align: right;\">\n",
              "      <th></th>\n",
              "      <th>title</th>\n",
              "      <th>body</th>\n",
              "      <th>total</th>\n",
              "      <th>timestamp</th>\n",
              "      <th>sentiment</th>\n",
              "      <th>comms_num</th>\n",
              "      <th>id</th>\n",
              "      <th>toxic</th>\n",
              "      <th>severe_toxic</th>\n",
              "      <th>obscene</th>\n",
              "      <th>threat</th>\n",
              "      <th>insult</th>\n",
              "      <th>identity_hate</th>\n",
              "      <th>vader_score</th>\n",
              "      <th>sentiment_total</th>\n",
              "      <th>diamond_label</th>\n",
              "      <th>yolo_label</th>\n",
              "      <th>paper_label</th>\n",
              "      <th>day</th>\n",
              "      <th>time</th>\n",
              "    </tr>\n",
              "  </thead>\n",
              "  <tbody>\n",
              "    <tr>\n",
              "      <th>0</th>\n",
              "      <td>It's not about the money, it's about sending a...</td>\n",
              "      <td>NaN</td>\n",
              "      <td>It's not about the money, it's about sending a...</td>\n",
              "      <td>2021-01-28 21:37:41</td>\n",
              "      <td>1</td>\n",
              "      <td>6</td>\n",
              "      <td>l6ulcx</td>\n",
              "      <td>0</td>\n",
              "      <td>0</td>\n",
              "      <td>0</td>\n",
              "      <td>0</td>\n",
              "      <td>0</td>\n",
              "      <td>0</td>\n",
              "      <td>0.0000</td>\n",
              "      <td>1</td>\n",
              "      <td>0</td>\n",
              "      <td>0</td>\n",
              "      <td>0</td>\n",
              "      <td>2021-01-28</td>\n",
              "      <td>21:37:41</td>\n",
              "    </tr>\n",
              "    <tr>\n",
              "      <th>1</th>\n",
              "      <td>Math Professor Scott Steiner says the numbers ...</td>\n",
              "      <td>NaN</td>\n",
              "      <td>Math Professor Scott Steiner says the numbers ...</td>\n",
              "      <td>2021-01-28 21:32:10</td>\n",
              "      <td>2</td>\n",
              "      <td>23</td>\n",
              "      <td>l6uibd</td>\n",
              "      <td>0</td>\n",
              "      <td>0</td>\n",
              "      <td>0</td>\n",
              "      <td>0</td>\n",
              "      <td>0</td>\n",
              "      <td>0</td>\n",
              "      <td>-0.7034</td>\n",
              "      <td>2</td>\n",
              "      <td>0</td>\n",
              "      <td>0</td>\n",
              "      <td>0</td>\n",
              "      <td>2021-01-28</td>\n",
              "      <td>21:32:10</td>\n",
              "    </tr>\n",
              "    <tr>\n",
              "      <th>2</th>\n",
              "      <td>Exit the system</td>\n",
              "      <td>The CEO of NASDAQ pushed to halt trading “to g...</td>\n",
              "      <td>Exit the system. The CEO of NASDAQ pushed to h...</td>\n",
              "      <td>2021-01-28 21:30:35</td>\n",
              "      <td>1</td>\n",
              "      <td>47</td>\n",
              "      <td>l6uhhn</td>\n",
              "      <td>0</td>\n",
              "      <td>0</td>\n",
              "      <td>0</td>\n",
              "      <td>0</td>\n",
              "      <td>1</td>\n",
              "      <td>0</td>\n",
              "      <td>-0.7644</td>\n",
              "      <td>1</td>\n",
              "      <td>0</td>\n",
              "      <td>0</td>\n",
              "      <td>0</td>\n",
              "      <td>2021-01-28</td>\n",
              "      <td>21:30:35</td>\n",
              "    </tr>\n",
              "    <tr>\n",
              "      <th>3</th>\n",
              "      <td>NEW SEC FILING FOR GME! CAN SOMEONE LESS RETAR...</td>\n",
              "      <td>NaN</td>\n",
              "      <td>NEW SEC FILING FOR GME! CAN SOMEONE LESS RETAR...</td>\n",
              "      <td>2021-01-28 21:28:57</td>\n",
              "      <td>5</td>\n",
              "      <td>74</td>\n",
              "      <td>l6ugk6</td>\n",
              "      <td>0</td>\n",
              "      <td>0</td>\n",
              "      <td>0</td>\n",
              "      <td>0</td>\n",
              "      <td>0</td>\n",
              "      <td>0</td>\n",
              "      <td>-0.3397</td>\n",
              "      <td>5</td>\n",
              "      <td>0</td>\n",
              "      <td>0</td>\n",
              "      <td>0</td>\n",
              "      <td>2021-01-28</td>\n",
              "      <td>21:28:57</td>\n",
              "    </tr>\n",
              "    <tr>\n",
              "      <th>4</th>\n",
              "      <td>Not to distract from GME, just thought our AMC...</td>\n",
              "      <td>NaN</td>\n",
              "      <td>Not to distract from GME, just thought our AMC...</td>\n",
              "      <td>2021-01-28 21:26:56</td>\n",
              "      <td>3</td>\n",
              "      <td>156</td>\n",
              "      <td>l6ufgy</td>\n",
              "      <td>0</td>\n",
              "      <td>0</td>\n",
              "      <td>0</td>\n",
              "      <td>0</td>\n",
              "      <td>0</td>\n",
              "      <td>0</td>\n",
              "      <td>0.2235</td>\n",
              "      <td>3</td>\n",
              "      <td>0</td>\n",
              "      <td>0</td>\n",
              "      <td>0</td>\n",
              "      <td>2021-01-28</td>\n",
              "      <td>21:26:56</td>\n",
              "    </tr>\n",
              "  </tbody>\n",
              "</table>\n",
              "</div>\n",
              "      <button class=\"colab-df-convert\" onclick=\"convertToInteractive('df-7529311b-9d75-44b9-9495-a7d3e1f07d28')\"\n",
              "              title=\"Convert this dataframe to an interactive table.\"\n",
              "              style=\"display:none;\">\n",
              "        \n",
              "  <svg xmlns=\"http://www.w3.org/2000/svg\" height=\"24px\"viewBox=\"0 0 24 24\"\n",
              "       width=\"24px\">\n",
              "    <path d=\"M0 0h24v24H0V0z\" fill=\"none\"/>\n",
              "    <path d=\"M18.56 5.44l.94 2.06.94-2.06 2.06-.94-2.06-.94-.94-2.06-.94 2.06-2.06.94zm-11 1L8.5 8.5l.94-2.06 2.06-.94-2.06-.94L8.5 2.5l-.94 2.06-2.06.94zm10 10l.94 2.06.94-2.06 2.06-.94-2.06-.94-.94-2.06-.94 2.06-2.06.94z\"/><path d=\"M17.41 7.96l-1.37-1.37c-.4-.4-.92-.59-1.43-.59-.52 0-1.04.2-1.43.59L10.3 9.45l-7.72 7.72c-.78.78-.78 2.05 0 2.83L4 21.41c.39.39.9.59 1.41.59.51 0 1.02-.2 1.41-.59l7.78-7.78 2.81-2.81c.8-.78.8-2.07 0-2.86zM5.41 20L4 18.59l7.72-7.72 1.47 1.35L5.41 20z\"/>\n",
              "  </svg>\n",
              "      </button>\n",
              "      \n",
              "  <style>\n",
              "    .colab-df-container {\n",
              "      display:flex;\n",
              "      flex-wrap:wrap;\n",
              "      gap: 12px;\n",
              "    }\n",
              "\n",
              "    .colab-df-convert {\n",
              "      background-color: #E8F0FE;\n",
              "      border: none;\n",
              "      border-radius: 50%;\n",
              "      cursor: pointer;\n",
              "      display: none;\n",
              "      fill: #1967D2;\n",
              "      height: 32px;\n",
              "      padding: 0 0 0 0;\n",
              "      width: 32px;\n",
              "    }\n",
              "\n",
              "    .colab-df-convert:hover {\n",
              "      background-color: #E2EBFA;\n",
              "      box-shadow: 0px 1px 2px rgba(60, 64, 67, 0.3), 0px 1px 3px 1px rgba(60, 64, 67, 0.15);\n",
              "      fill: #174EA6;\n",
              "    }\n",
              "\n",
              "    [theme=dark] .colab-df-convert {\n",
              "      background-color: #3B4455;\n",
              "      fill: #D2E3FC;\n",
              "    }\n",
              "\n",
              "    [theme=dark] .colab-df-convert:hover {\n",
              "      background-color: #434B5C;\n",
              "      box-shadow: 0px 1px 3px 1px rgba(0, 0, 0, 0.15);\n",
              "      filter: drop-shadow(0px 1px 2px rgba(0, 0, 0, 0.3));\n",
              "      fill: #FFFFFF;\n",
              "    }\n",
              "  </style>\n",
              "\n",
              "      <script>\n",
              "        const buttonEl =\n",
              "          document.querySelector('#df-7529311b-9d75-44b9-9495-a7d3e1f07d28 button.colab-df-convert');\n",
              "        buttonEl.style.display =\n",
              "          google.colab.kernel.accessAllowed ? 'block' : 'none';\n",
              "\n",
              "        async function convertToInteractive(key) {\n",
              "          const element = document.querySelector('#df-7529311b-9d75-44b9-9495-a7d3e1f07d28');\n",
              "          const dataTable =\n",
              "            await google.colab.kernel.invokeFunction('convertToInteractive',\n",
              "                                                     [key], {});\n",
              "          if (!dataTable) return;\n",
              "\n",
              "          const docLinkHtml = 'Like what you see? Visit the ' +\n",
              "            '<a target=\"_blank\" href=https://colab.research.google.com/notebooks/data_table.ipynb>data table notebook</a>'\n",
              "            + ' to learn more about interactive tables.';\n",
              "          element.innerHTML = '';\n",
              "          dataTable['output_type'] = 'display_data';\n",
              "          await google.colab.output.renderOutput(dataTable, element);\n",
              "          const docLink = document.createElement('div');\n",
              "          docLink.innerHTML = docLinkHtml;\n",
              "          element.appendChild(docLink);\n",
              "        }\n",
              "      </script>\n",
              "    </div>\n",
              "  </div>\n",
              "  "
            ]
          },
          "metadata": {},
          "execution_count": 9
        }
      ]
    },
    {
      "cell_type": "code",
      "source": [
        "plt.rcParams[\"figure.figsize\"] = (20,10)\n",
        "x = data_wsb2['day'].unique()\n",
        "y_bert_score = data_wsb2.groupby(['day'])['sentiment_total'].mean()\n",
        "plt.plot(x, y_bert_score, label = \"bert\",linewidth=2)\n",
        "plt.title('Daily mean of Bert Score', fontsize = 20) # 1 is negative, 5 is positive"
      ],
      "metadata": {
        "colab": {
          "base_uri": "https://localhost:8080/",
          "height": 630
        },
        "id": "Fz_dGvCAbzv3",
        "outputId": "f90e0466-386f-4d57-f225-50d6f125945d"
      },
      "execution_count": null,
      "outputs": [
        {
          "output_type": "execute_result",
          "data": {
            "text/plain": [
              "Text(0.5, 1.0, 'Daily mean of Bert Score')"
            ]
          },
          "metadata": {},
          "execution_count": 86
        },
        {
          "output_type": "display_data",
          "data": {
            "text/plain": [
              "<Figure size 1440x720 with 1 Axes>"
            ],
            "image/png": "[encoded data removed]"
          },
          "metadata": {
            "needs_background": "light"
          }
        }
      ]
    },
    {
      "cell_type": "code",
      "source": [
        "plt.rcParams[\"figure.figsize\"] = (20,10)\n",
        "#x = data_wsb2['day'].unique()\n",
        "y_vader_score = data_wsb2.groupby(['day'])['vader_score'].mean()\n",
        "plt.plot(x, y_vader_score, label = \"vader\",linewidth=2)\n",
        "plt.title('Daily Mean of Vader Socre', fontsize = 20)  # lower score means negative "
      ],
      "metadata": {
        "colab": {
          "base_uri": "https://localhost:8080/",
          "height": 630
        },
        "id": "Voovkd5zhTjD",
        "outputId": "df6a53e2-71b3-4b26-ae5a-11c3539aea44"
      },
      "execution_count": null,
      "outputs": [
        {
          "output_type": "execute_result",
          "data": {
            "text/plain": [
              "Text(0.5, 1.0, 'Daily Mean of Vader Socre')"
            ]
          },
          "metadata": {},
          "execution_count": 84
        },
        {
          "output_type": "display_data",
          "data": {
            "text/plain": [
              "<Figure size 1440x720 with 1 Axes>"
            ],
            "image/png": "[encoded data removed]"
          },
          "metadata": {
            "needs_background": "light"
          }
        }
      ]
    },
    {
      "cell_type": "code",
      "source": [
        "toxic = data_wsb2[data_wsb2['toxic']==1]\n",
        "severe_toxic = data_wsb2[data_wsb2['severe_toxic']==1]\n",
        "obscene = data_wsb2[data_wsb2['obscene']==1]\n",
        "threat = data_wsb2[data_wsb2['threat']==1]\n",
        "insult = data_wsb2[data_wsb2['insult']==1]\n",
        "identity_hate = data_wsb2[data_wsb2['identity_hate']==1]"
      ],
      "metadata": {
        "id": "MFxplPhEOlCA"
      },
      "execution_count": null,
      "outputs": []
    },
    {
      "cell_type": "code",
      "source": [
        "toxic['toxic'].sum()"
      ],
      "metadata": {
        "colab": {
          "base_uri": "https://localhost:8080/"
        },
        "id": "fXt-7yMsNcto",
        "outputId": "878038b2-097f-4afb-8ad1-e843a5755b88"
      },
      "execution_count": null,
      "outputs": [
        {
          "output_type": "execute_result",
          "data": {
            "text/plain": [
              "7944"
            ]
          },
          "metadata": {},
          "execution_count": 13
        }
      ]
    },
    {
      "cell_type": "code",
      "source": [
        "x = data_wsb2['day'].unique()\n",
        "y_toxic = data_wsb2.groupby(['day'])['toxic'].sum().values.tolist()\n",
        "y_severe_toxic = data_wsb2.groupby(['day'])['severe_toxic'].sum().values.tolist()\n",
        "y_obscene =  data_wsb2.groupby(['day'])['obscene'].sum().values.tolist()\n",
        "y_insult = data_wsb2.groupby(['day'])['insult'].sum().values.tolist()\n",
        "y_identity_hate = data_wsb2.groupby(['day'])['identity_hate'].sum().values.tolist()"
      ],
      "metadata": {
        "id": "gMDGYBMSR85z"
      },
      "execution_count": null,
      "outputs": []
    },
    {
      "cell_type": "code",
      "source": [
        "len(y_severe_toxic)"
      ],
      "metadata": {
        "colab": {
          "base_uri": "https://localhost:8080/"
        },
        "id": "oAmwthVyTmvt",
        "outputId": "d038989d-19e9-4987-b94d-bf7f780cfea9"
      },
      "execution_count": null,
      "outputs": [
        {
          "output_type": "execute_result",
          "data": {
            "text/plain": [
              "176"
            ]
          },
          "metadata": {},
          "execution_count": 49
        }
      ]
    },
    {
      "cell_type": "code",
      "source": [
        "plt.figure(figsize=(50,50))\n",
        "plt.plot(x, y_toxic, label = \"toxic\", linestyle=\"-\",  linewidth=1.5)\n",
        "plt.plot(x, y_severe_toxic, label ='severe_toxic', linestyle=\"--\", linewidth=1.5 )\n",
        "plt.plot(x, y_obscene, label = \"obscene\", linestyle=\":\", linewidth=2)\n",
        "plt.plot(x, y_insult, label = 'insult', linestyle = 'solid',  linewidth = 2)\n",
        "plt.plot(x, y_identity_hate, label = 'identity_hate', linestyle = 'dashdot', linewidth = 2)\n",
        "#plt.rcParams[\"figure.figsize\"] = (70,50)\n",
        "plt.legend(fontsize =35)\n",
        "plt.title('Toxicity Comments Detection',fontsize=40) "
      ],
      "metadata": {
        "colab": {
          "base_uri": "https://localhost:8080/",
          "height": 1000
        },
        "id": "dRvF5uNdSx9q",
        "outputId": "2a1b3b60-c481-42a6-c522-921714df9de1"
      },
      "execution_count": null,
      "outputs": [
        {
          "output_type": "execute_result",
          "data": {
            "text/plain": [
              "Text(0.5, 1.0, 'Toxicity Comments Detection')"
            ]
          },
          "metadata": {},
          "execution_count": 81
        },
        {
          "output_type": "display_data",
          "data": {
            "text/plain": [
              "<Figure size 3600x3600 with 1 Axes>"
            ],
            "image/png": "[encoded data removed]"
          },
          "metadata": {
            "needs_background": "light"
          }
        }
      ]
    }
  ],
  "metadata": {
    "colab": {
      "provenance": [],
      "machine_shape": "hm",
      "collapsed_sections": [
        "TajxUe_5rEyk",
        "5SqCDWFpuksp",
        "138RhFsPvK8I",
        "t7Gcm_AXySCE"
      ],
      "mount_file_id": "1F7bJUBO_d6H5klDAuHlM_XoJUbkW7t-j",
      "authorship_tag": "ABX9TyPt0EiZk/mLQUTeQhJTnMLJ",
      "include_colab_link": true
    },
    "gpuClass": "premium",
    "kernelspec": {
      "display_name": "Python 3",
      "name": "python3"
    },
    "language_info": {
      "name": "python"
    }
  },
  "nbformat": 4,
  "nbformat_minor": 0
}